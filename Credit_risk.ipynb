{
  "cells": [
    {
      "cell_type": "markdown",
      "id": "f8275d40-8a4c-443e-919d-5411d12e96e9",
      "metadata": {
        "id": "f8275d40-8a4c-443e-919d-5411d12e96e9"
      },
      "source": [
        "<h1>Credit risk modeling</h1>"
      ]
    },
    {
      "cell_type": "markdown",
      "id": "afde40fe-3b8d-43da-9cc9-5fad766bf81d",
      "metadata": {
        "id": "afde40fe-3b8d-43da-9cc9-5fad766bf81d"
      },
      "source": [
        "<h1> Introduction </h1>\n",
        "<p> The aim of this paper is to present models for the prediction of the probability of default. The work includes a causal analysis using the following models: Logit and probit, additionally, for predictive purposes, the Random Forest and XGBoost models were also used.\n",
        "<p>"
      ]
    },
    {
      "cell_type": "markdown",
      "id": "d2cc71a6-16f9-4202-8154-e1d32db543bb",
      "metadata": {
        "id": "d2cc71a6-16f9-4202-8154-e1d32db543bb"
      },
      "source": [
        "<h1> Dataset description </h1>\n",
        "\n",
        "<p>\n",
        "For the study, I used the dataset from the Kaggle.com platform. The unclean base contained 13,444 observations, for 14 variables describing the sample of customers with credit cards.\n",
        "\n",
        "\n",
        "The response variable is <b> DEFAULT </b>, which takes the value 1 if the client ever fails, and 0 otherwise.\n",
        "\n",
        "The other variables are:\n",
        "<ul>\n",
        "<li> CARDHLDR - takes the value 1 if the client had an approved credit card application and 0 otherwise </li>\n",
        "<li> AGE - exact age expressed in years and fractions of years </li>\n",
        "<li> ACADMOS - months of residence at permanent address </li>\n",
        "<li> ADEPCNT - 1 + dependents </li>\n",
        "<li> MAJORDRG - Number of reports of serious violations </li>\n",
        "<li> MINORDRG - Number of minor violations reports </li>\n",
        "<li> OWNRENT - the variable takes the value 1 if the client owns his house / flat and 0 if the client rents out </li>\n",
        "<li> INCOME - monthly income divided by 10,000 </li>\n",
        "<li> SELFEMPL - the variable takes the value 1 if the client runs his own business, 0 otherwise </li>\n",
        "<li> INCPER - Income divided by the number of dependents </li>\n",
        "<li> EXP_INC - credit card spend to income ratio </li>\n",
        "<li> SPENDING - average monthly credit card expenses </li>\n",
        "<li> LOGSPEND - logarithm of monthly average credit card spend </li>\n",
        "</ul>\n",
        "\n",
        "The database after removing the deficiencies, the variable concerning the acceptance of the card application and the values ​​not very reliable for age, consists of 10,461 observations. Out of the surveyed clients, 9.5% had problems with repayment of the loan. The average age of clients is less than 34 years. On the other hand, 3/4 of the respondents are under the age of 40. The variable has a right-hand asymmetric distribution. We removed outliers due to age, i.e. people who were less than 18 years old in the database. On average, the respondents lived for about 56 months during one period and had 1 dependent. There are few people in the database with serious flaws. The largest number of clients had 6 serious deficiencies, while on average there were 0.14 deficiencies per person in the entire sample. The number of minor deficiencies is similar to the serious deficiencies. This variable assumed the maximum value of 7. Out of all respondents, 47% have their own apartment. The research sample is characterized by a large spread in terms of income. The smallest amount of earnings in the sample is 500,000, while the highest is 83,332,500. 75% of the respondents earn less than 30,416,666. Only 5% of the respondents run their own business. Income divided by the number of dependents is on average 22,577 per month. Credit card spending averages 9% of income. The age, time of living at one address, income and expenditure variables are right-handed, with a significant number of outliers.\n",
        "<p>"
      ]
    },
    {
      "cell_type": "code",
      "execution_count": null,
      "id": "b5ff2026-986a-438c-af1f-631917893f5a",
      "metadata": {
        "id": "b5ff2026-986a-438c-af1f-631917893f5a"
      },
      "outputs": [],
      "source": [
        "#import libraries\n",
        "import pandas as pd\n",
        "import numpy as np\n",
        "from scipy.stats import kendalltau, chi2_contingency\n",
        "import scipy\n",
        "from statsmodels.discrete.discrete_model import Logit, Probit \n",
        "from statsmodels.iolib.summary2 import summary_col\n",
        "from funkcje import build_model, calculate_woe_iv, Cramer, gini\n",
        "from sklearn.model_selection import cross_val_score, train_test_split\n",
        "import matplotlib.pyplot as plt\n",
        "import seaborn as sns\n",
        "import warnings\n",
        "warnings.filterwarnings(\"ignore\")\n",
        "from sklearn.metrics import roc_curve, roc_auc_score, confusion_matrix, precision_recall_curve, auc\n",
        "from sklearn.linear_model import LogisticRegression\n",
        "from xgboost import XGBClassifier\n",
        "import random"
      ]
    },
    {
      "cell_type": "code",
      "execution_count": null,
      "id": "dae5cf81-88d2-4d1b-95a3-0be9d57f9e8a",
      "metadata": {
        "id": "dae5cf81-88d2-4d1b-95a3-0be9d57f9e8a"
      },
      "outputs": [],
      "source": [
        "#reading data (without the CARDHLDR variable, because it has only one unique variable)\n",
        "df = pd.read_csv('credit_data.csv').drop(columns='CARDHLDR')"
      ]
    },
    {
      "cell_type": "code",
      "execution_count": null,
      "id": "221178f0-3dc3-4c4e-bcff-59ffba802da7",
      "metadata": {
        "id": "221178f0-3dc3-4c4e-bcff-59ffba802da7"
      },
      "outputs": [],
      "source": [
        "#to get rid of spending shortcomings, which are a space, to change SPENDING and LOGSPEND to still\n",
        "df = df.loc[df['SPENDING']!=' ']\n",
        "df.rename(columns={'LOGSPEND ':'LOGSPEND'}, inplace=True)\n",
        "df['SPENDING'] = df['SPENDING'].astype(float)\n",
        "df['LOGSPEND'] = df['LOGSPEND'].astype(float)\n",
        "df['AGE'] = df['AGE'].astype(int)\n",
        "df['ACADMOS'] = df['ACADMOS'].astype(int)"
      ]
    },
    {
      "cell_type": "code",
      "execution_count": null,
      "id": "05e54af5-89f5-4d25-b9e1-59288ed6ab00",
      "metadata": {
        "id": "05e54af5-89f5-4d25-b9e1-59288ed6ab00",
        "outputId": "236764fa-6441-41b6-bd0e-5c9a24499854"
      },
      "outputs": [
        {
          "data": {
            "text/html": [
              "<div>\n",
              "<style scoped>\n",
              "    .dataframe tbody tr th:only-of-type {\n",
              "        vertical-align: middle;\n",
              "    }\n",
              "\n",
              "    .dataframe tbody tr th {\n",
              "        vertical-align: top;\n",
              "    }\n",
              "\n",
              "    .dataframe thead th {\n",
              "        text-align: right;\n",
              "    }\n",
              "</style>\n",
              "<table border=\"1\" class=\"dataframe\">\n",
              "  <thead>\n",
              "    <tr style=\"text-align: right;\">\n",
              "      <th></th>\n",
              "      <th>count</th>\n",
              "      <th>mean</th>\n",
              "      <th>std</th>\n",
              "      <th>min</th>\n",
              "      <th>25%</th>\n",
              "      <th>50%</th>\n",
              "      <th>75%</th>\n",
              "      <th>max</th>\n",
              "    </tr>\n",
              "  </thead>\n",
              "  <tbody>\n",
              "    <tr>\n",
              "      <th>DEFAULT</th>\n",
              "      <td>10499.0</td>\n",
              "      <td>0.094866</td>\n",
              "      <td>0.293044</td>\n",
              "      <td>0.000000</td>\n",
              "      <td>0.000000</td>\n",
              "      <td>0.000000</td>\n",
              "      <td>0.000000</td>\n",
              "      <td>1.000000</td>\n",
              "    </tr>\n",
              "    <tr>\n",
              "      <th>AGE</th>\n",
              "      <td>10499.0</td>\n",
              "      <td>33.227831</td>\n",
              "      <td>10.293118</td>\n",
              "      <td>0.000000</td>\n",
              "      <td>25.000000</td>\n",
              "      <td>31.000000</td>\n",
              "      <td>39.000000</td>\n",
              "      <td>88.000000</td>\n",
              "    </tr>\n",
              "    <tr>\n",
              "      <th>ACADMOS</th>\n",
              "      <td>10499.0</td>\n",
              "      <td>55.904181</td>\n",
              "      <td>64.127434</td>\n",
              "      <td>0.000000</td>\n",
              "      <td>12.000000</td>\n",
              "      <td>30.000000</td>\n",
              "      <td>72.000000</td>\n",
              "      <td>564.000000</td>\n",
              "    </tr>\n",
              "    <tr>\n",
              "      <th>ADEPCNT</th>\n",
              "      <td>10499.0</td>\n",
              "      <td>0.990380</td>\n",
              "      <td>1.273887</td>\n",
              "      <td>0.000000</td>\n",
              "      <td>0.000000</td>\n",
              "      <td>0.000000</td>\n",
              "      <td>2.000000</td>\n",
              "      <td>9.000000</td>\n",
              "    </tr>\n",
              "    <tr>\n",
              "      <th>MAJORDRG</th>\n",
              "      <td>10499.0</td>\n",
              "      <td>0.143252</td>\n",
              "      <td>0.461568</td>\n",
              "      <td>0.000000</td>\n",
              "      <td>0.000000</td>\n",
              "      <td>0.000000</td>\n",
              "      <td>0.000000</td>\n",
              "      <td>6.000000</td>\n",
              "    </tr>\n",
              "    <tr>\n",
              "      <th>MINORDRG</th>\n",
              "      <td>10499.0</td>\n",
              "      <td>0.220688</td>\n",
              "      <td>0.637142</td>\n",
              "      <td>0.000000</td>\n",
              "      <td>0.000000</td>\n",
              "      <td>0.000000</td>\n",
              "      <td>0.000000</td>\n",
              "      <td>7.000000</td>\n",
              "    </tr>\n",
              "    <tr>\n",
              "      <th>OWNRENT</th>\n",
              "      <td>10499.0</td>\n",
              "      <td>0.479093</td>\n",
              "      <td>0.499587</td>\n",
              "      <td>0.000000</td>\n",
              "      <td>0.000000</td>\n",
              "      <td>0.000000</td>\n",
              "      <td>1.000000</td>\n",
              "      <td>1.000000</td>\n",
              "    </tr>\n",
              "    <tr>\n",
              "      <th>INCOME</th>\n",
              "      <td>10499.0</td>\n",
              "      <td>2606.125933</td>\n",
              "      <td>1287.983386</td>\n",
              "      <td>50.000000</td>\n",
              "      <td>1750.000000</td>\n",
              "      <td>2291.666667</td>\n",
              "      <td>3041.666667</td>\n",
              "      <td>8333.250000</td>\n",
              "    </tr>\n",
              "    <tr>\n",
              "      <th>SELFEMPL</th>\n",
              "      <td>10499.0</td>\n",
              "      <td>0.053624</td>\n",
              "      <td>0.225285</td>\n",
              "      <td>0.000000</td>\n",
              "      <td>0.000000</td>\n",
              "      <td>0.000000</td>\n",
              "      <td>0.000000</td>\n",
              "      <td>1.000000</td>\n",
              "    </tr>\n",
              "    <tr>\n",
              "      <th>INCPER</th>\n",
              "      <td>10499.0</td>\n",
              "      <td>22581.362368</td>\n",
              "      <td>13754.973409</td>\n",
              "      <td>700.000000</td>\n",
              "      <td>12900.000000</td>\n",
              "      <td>20000.000000</td>\n",
              "      <td>28336.666992</td>\n",
              "      <td>150000.000000</td>\n",
              "    </tr>\n",
              "    <tr>\n",
              "      <th>EXP_INC</th>\n",
              "      <td>10499.0</td>\n",
              "      <td>0.090744</td>\n",
              "      <td>0.109749</td>\n",
              "      <td>0.000096</td>\n",
              "      <td>0.025998</td>\n",
              "      <td>0.058957</td>\n",
              "      <td>0.116123</td>\n",
              "      <td>2.037728</td>\n",
              "    </tr>\n",
              "    <tr>\n",
              "      <th>SPENDING</th>\n",
              "      <td>10499.0</td>\n",
              "      <td>226.983318</td>\n",
              "      <td>294.101184</td>\n",
              "      <td>0.111111</td>\n",
              "      <td>58.752881</td>\n",
              "      <td>139.991672</td>\n",
              "      <td>284.439924</td>\n",
              "      <td>4810.309038</td>\n",
              "    </tr>\n",
              "    <tr>\n",
              "      <th>LOGSPEND</th>\n",
              "      <td>10499.0</td>\n",
              "      <td>4.728778</td>\n",
              "      <td>1.404820</td>\n",
              "      <td>-2.197225</td>\n",
              "      <td>4.073340</td>\n",
              "      <td>4.941583</td>\n",
              "      <td>5.650522</td>\n",
              "      <td>8.478517</td>\n",
              "    </tr>\n",
              "  </tbody>\n",
              "</table>\n",
              "</div>"
            ],
            "text/plain": [
              "            count          mean           std         min           25%  \\\n",
              "DEFAULT   10499.0      0.094866      0.293044    0.000000      0.000000   \n",
              "AGE       10499.0     33.227831     10.293118    0.000000     25.000000   \n",
              "ACADMOS   10499.0     55.904181     64.127434    0.000000     12.000000   \n",
              "ADEPCNT   10499.0      0.990380      1.273887    0.000000      0.000000   \n",
              "MAJORDRG  10499.0      0.143252      0.461568    0.000000      0.000000   \n",
              "MINORDRG  10499.0      0.220688      0.637142    0.000000      0.000000   \n",
              "OWNRENT   10499.0      0.479093      0.499587    0.000000      0.000000   \n",
              "INCOME    10499.0   2606.125933   1287.983386   50.000000   1750.000000   \n",
              "SELFEMPL  10499.0      0.053624      0.225285    0.000000      0.000000   \n",
              "INCPER    10499.0  22581.362368  13754.973409  700.000000  12900.000000   \n",
              "EXP_INC   10499.0      0.090744      0.109749    0.000096      0.025998   \n",
              "SPENDING  10499.0    226.983318    294.101184    0.111111     58.752881   \n",
              "LOGSPEND  10499.0      4.728778      1.404820   -2.197225      4.073340   \n",
              "\n",
              "                   50%           75%            max  \n",
              "DEFAULT       0.000000      0.000000       1.000000  \n",
              "AGE          31.000000     39.000000      88.000000  \n",
              "ACADMOS      30.000000     72.000000     564.000000  \n",
              "ADEPCNT       0.000000      2.000000       9.000000  \n",
              "MAJORDRG      0.000000      0.000000       6.000000  \n",
              "MINORDRG      0.000000      0.000000       7.000000  \n",
              "OWNRENT       0.000000      1.000000       1.000000  \n",
              "INCOME     2291.666667   3041.666667    8333.250000  \n",
              "SELFEMPL      0.000000      0.000000       1.000000  \n",
              "INCPER    20000.000000  28336.666992  150000.000000  \n",
              "EXP_INC       0.058957      0.116123       2.037728  \n",
              "SPENDING    139.991672    284.439924    4810.309038  \n",
              "LOGSPEND      4.941583      5.650522       8.478517  "
            ]
          },
          "execution_count": 108,
          "metadata": {},
          "output_type": "execute_result"
        }
      ],
      "source": [
        "df.describe().T"
      ]
    },
    {
      "cell_type": "markdown",
      "id": "1d8706e7-cb3c-4f24-93b4-ff809de1fc79",
      "metadata": {
        "id": "1d8706e7-cb3c-4f24-93b4-ff809de1fc79"
      },
      "source": [
        "The lowest age is 0 years, in this case it was removed for people under 18 years of age. The above table proves that we are dealing with a right-hand distribution. The differences in values between the first and second quartiles are less than smaller between the third in the maximum quartile. What do we have for a base of a person with 9 people who uses a person who lives under one person number 47 years old, and there are 166 times more points to score than the person running. However, it is possible that it is possible that employees are due to results that are not due to situations where we have data to clear the day."
      ]
    },
    {
      "cell_type": "code",
      "execution_count": null,
      "id": "25f67263-0297-49bd-87bd-4b2fb3571e84",
      "metadata": {
        "id": "25f67263-0297-49bd-87bd-4b2fb3571e84"
      },
      "outputs": [],
      "source": [
        "#removal under 18 years of age\n",
        "df = df.loc[df['AGE']>=18]"
      ]
    },
    {
      "cell_type": "code",
      "execution_count": null,
      "id": "2e1a48a9-c22a-49c0-9368-554849bb6a96",
      "metadata": {
        "id": "2e1a48a9-c22a-49c0-9368-554849bb6a96",
        "outputId": "062e3020-5a50-4303-884f-7c48f0d78508"
      },
      "outputs": [
        {
          "data": {
            "image/png": "[encoded data removed]",
            "text/plain": [
              "<Figure size 1080x1080 with 9 Axes>"
            ]
          },
          "metadata": {},
          "output_type": "display_data"
        }
      ],
      "source": [
        "sns.set_style(\"darkgrid\")\n",
        "import matplotlib.pyplot as plt\n",
        "plt.rcParams[\"figure.figsize\"] = (15,15)\n",
        "\n",
        "\n",
        "\n",
        "fig, ax =plt.subplots(3,3)\n",
        "sns.countplot(df['DEFAULT'], ax=ax[0,0]).set(title='Zmienna DEFAULT', ylabel='Częstość')\n",
        "sns.histplot(df['AGE'], ax=ax[0,1]).set(title='Zmienna AGE', ylabel='Częstość', xlabel='Wiek')\n",
        "sns.histplot(df['ACADMOS'], ax=ax[0,2]).set(title='Zmienna ACADMOS', ylabel='Częstość', xlabel='Liczba miesięcy')\n",
        "sns.countplot(df['SELFEMPL'], ax=ax[1,0]).set(title='Zmienna SELFEMPL', xlabel='Samozatrudnienie')\n",
        "sns.histplot(df['ADEPCNT'], ax=ax[1,1], bins=5).set(title='Zmienna ADEPCNT', ylabel='Częstość', xlabel='Liczba os. na utrzymaniu')\n",
        "sns.histplot(df['MAJORDRG'], ax=ax[1,2], bins=5).set(title='Zmienna MAJORDRG', ylabel='Częstość', xlabel='Liczba poważnych zgłoszeń o uchybieniach')\n",
        "sns.histplot(df['MINORDRG'], ax=ax[2,0]).set(title='Zmienna MINORDRG', ylabel='Częstość', xlabel='Liczba mniejszych zgłoszeń o uchybieniach')\n",
        "sns.countplot(df['OWNRENT'], ax=ax[2,1]).set(title='Zmienna OWNRENT', ylabel='Czy posiada mieszkanie')\n",
        "sns.histplot(df['INCOME'], ax=ax[2,2]).set(title='Zmienna INCOME', ylabel='Częstość', xlabel='Miesięczny dochód')\n",
        "\n",
        "\n",
        "fig.show()\n"
      ]
    },
    {
      "cell_type": "markdown",
      "id": "9340a9d5-149a-4320-9c50-38a9a802f8e0",
      "metadata": {
        "id": "9340a9d5-149a-4320-9c50-38a9a802f8e0"
      },
      "source": [
        "Summing up, our database consists of a small number of people who have reported default, the clients are young, they do not have many dependents, most of them have low or medium earnings, half of them have their own apartment, a small part of the respondents conduct their business. Most clients are between 23 and 27 years old. On average, the respondents live at one address for a little over 4 years, but there are also few people who live at one address for around 30 years. After removing people under 18 from the database, observations with high number of dependents also disappeared, the maximum number of serious breaches is now 2, and the maximum length of a flat at one address fell by 17 years, which confirms that the removal of these observations was the right decision."
      ]
    },
    {
      "cell_type": "code",
      "execution_count": null,
      "id": "7621aea8-9104-4da8-961c-89a1e5bd4fb5",
      "metadata": {
        "id": "7621aea8-9104-4da8-961c-89a1e5bd4fb5",
        "outputId": "dda3e435-383b-4e5b-c299-628d915ae36d"
      },
      "outputs": [
        {
          "data": {
            "text/html": [
              "<div>\n",
              "<style scoped>\n",
              "    .dataframe tbody tr th:only-of-type {\n",
              "        vertical-align: middle;\n",
              "    }\n",
              "\n",
              "    .dataframe tbody tr th {\n",
              "        vertical-align: top;\n",
              "    }\n",
              "\n",
              "    .dataframe thead th {\n",
              "        text-align: right;\n",
              "    }\n",
              "</style>\n",
              "<table border=\"1\" class=\"dataframe\">\n",
              "  <thead>\n",
              "    <tr style=\"text-align: right;\">\n",
              "      <th></th>\n",
              "      <th>Zmienna</th>\n",
              "      <th>Score</th>\n",
              "    </tr>\n",
              "  </thead>\n",
              "  <tbody>\n",
              "    <tr>\n",
              "      <th>0</th>\n",
              "      <td>DEFAULT</td>\n",
              "      <td>0.905076</td>\n",
              "    </tr>\n",
              "    <tr>\n",
              "      <th>1</th>\n",
              "      <td>AGE</td>\n",
              "      <td>0.165289</td>\n",
              "    </tr>\n",
              "    <tr>\n",
              "      <th>2</th>\n",
              "      <td>ACADMOS</td>\n",
              "      <td>0.551789</td>\n",
              "    </tr>\n",
              "    <tr>\n",
              "      <th>3</th>\n",
              "      <td>ADEPCNT</td>\n",
              "      <td>0.651048</td>\n",
              "    </tr>\n",
              "    <tr>\n",
              "      <th>4</th>\n",
              "      <td>MAJORDRG</td>\n",
              "      <td>0.912760</td>\n",
              "    </tr>\n",
              "    <tr>\n",
              "      <th>5</th>\n",
              "      <td>MINORDRG</td>\n",
              "      <td>0.891041</td>\n",
              "    </tr>\n",
              "    <tr>\n",
              "      <th>6</th>\n",
              "      <td>OWNRENT</td>\n",
              "      <td>0.520409</td>\n",
              "    </tr>\n",
              "    <tr>\n",
              "      <th>7</th>\n",
              "      <td>INCOME</td>\n",
              "      <td>0.248771</td>\n",
              "    </tr>\n",
              "    <tr>\n",
              "      <th>8</th>\n",
              "      <td>SELFEMPL</td>\n",
              "      <td>0.946277</td>\n",
              "    </tr>\n",
              "    <tr>\n",
              "      <th>9</th>\n",
              "      <td>INCPER</td>\n",
              "      <td>0.311323</td>\n",
              "    </tr>\n",
              "    <tr>\n",
              "      <th>10</th>\n",
              "      <td>EXP_INC</td>\n",
              "      <td>0.524907</td>\n",
              "    </tr>\n",
              "    <tr>\n",
              "      <th>11</th>\n",
              "      <td>SPENDING</td>\n",
              "      <td>0.547241</td>\n",
              "    </tr>\n",
              "    <tr>\n",
              "      <th>12</th>\n",
              "      <td>LOGSPEND</td>\n",
              "      <td>0.158885</td>\n",
              "    </tr>\n",
              "  </tbody>\n",
              "</table>\n",
              "</div>"
            ],
            "text/plain": [
              "     Zmienna     Score\n",
              "0    DEFAULT  0.905076\n",
              "1        AGE  0.165289\n",
              "2    ACADMOS  0.551789\n",
              "3    ADEPCNT  0.651048\n",
              "4   MAJORDRG  0.912760\n",
              "5   MINORDRG  0.891041\n",
              "6    OWNRENT  0.520409\n",
              "7     INCOME  0.248771\n",
              "8   SELFEMPL  0.946277\n",
              "9     INCPER  0.311323\n",
              "10   EXP_INC  0.524907\n",
              "11  SPENDING  0.547241\n",
              "12  LOGSPEND  0.158885"
            ]
          },
          "execution_count": 102,
          "metadata": {},
          "output_type": "execute_result"
        }
      ],
      "source": [
        "gini_scores=[]\n",
        "for variable in df.columns:\n",
        "    gini_scores.append([variable, gini(df[variable])])\n",
        "pd.DataFrame(gini_scores, columns = ['Zmienna', 'Score'])"
      ]
    },
    {
      "cell_type": "markdown",
      "id": "540016a5-fbcb-463a-b67c-28c005813ad2",
      "metadata": {
        "id": "540016a5-fbcb-463a-b67c-28c005813ad2"
      },
      "source": [
        "All of the variables have the appropriate discriminant ability. The lowest value is the \"LOGSPEND\" and \"AGE\" variables."
      ]
    },
    {
      "cell_type": "code",
      "execution_count": null,
      "id": "f91032dc-c867-47bd-8250-954d1480b26f",
      "metadata": {
        "id": "f91032dc-c867-47bd-8250-954d1480b26f",
        "outputId": "063e312b-02ea-49c5-8f54-f24ef317e292"
      },
      "outputs": [
        {
          "data": {
            "image/png": "[encoded data removed]",
            "text/plain": [
              "<Figure size 2160x576 with 6 Axes>"
            ]
          },
          "metadata": {},
          "output_type": "display_data"
        }
      ],
      "source": [
        "plt.rcParams[\"figure.figsize\"] = (30,8)\n",
        "\n",
        "fig, ax =plt.subplots(1,3)\n",
        "sns.heatmap(df.corr(method='spearman'),vmin=0.00, vmax=1.00,ax=ax[0]).set(title='Korelacja Spearmana')\n",
        "sns.heatmap(df.corr(method='kendall'),vmin=0.00, vmax=1.00,ax=ax[1]).set(title='Korelacja Kendalla')\n",
        "sns.heatmap(Cramer(df), ax=ax[2]).set(title='CramerV')\n",
        "\n",
        "fig.show()\n"
      ]
    },
    {
      "cell_type": "code",
      "execution_count": null,
      "id": "96940b1a-143b-4aec-9280-f25dbbbf642b",
      "metadata": {
        "id": "96940b1a-143b-4aec-9280-f25dbbbf642b"
      },
      "outputs": [],
      "source": [
        "df.drop(columns=['LOGSPEND', 'EXP_INC'], inplace=True)"
      ]
    },
    {
      "cell_type": "markdown",
      "id": "6548feba-957f-4c42-b2f6-32ac040831d1",
      "metadata": {
        "id": "6548feba-957f-4c42-b2f6-32ac040831d1"
      },
      "source": [
        "Subsequently, I tested the correlation using 3 measures: Spearman, Kendall and V-Cramer. The Kendall measure showed the lowest correlations. The only variables at the unacceptable level of correlation (i.e. above 0.7) are the two expenditure variables. Taking this into account, they were removed from the data set. The V-Cramer's method showed an equally high correlation between the income variable and the income to expenditure ratio. It has been decided to reject LOGSPEND EXP_INC variables. LOGSPEND is strongly correlated with the variable SPENDING, and both have a lower Gini coefficient. The EXP_INC variable also has a strong correlation with the SPENDING variable."
      ]
    },
    {
      "cell_type": "markdown",
      "id": "2491924d-a0ae-4624-8512-02913291a76a",
      "metadata": {
        "id": "2491924d-a0ae-4624-8512-02913291a76a"
      },
      "source": [
        "<h3> Outliers </h3>\n",
        "\n",
        "Logistic regression is sensitive to outliers. It was decided to remove 5% of the extreme values from the data set."
      ]
    },
    {
      "cell_type": "code",
      "execution_count": null,
      "id": "ca560309-7ad6-40b1-b84b-cc4e3885d804",
      "metadata": {
        "id": "ca560309-7ad6-40b1-b84b-cc4e3885d804"
      },
      "outputs": [],
      "source": [
        "lower_bound = df.quantile(0.025)\n",
        "upper_bound = df.quantile(0.975)\n",
        "num_of_outl = (df[upper_bound.index] > upper_bound).sum()\n",
        "outliers = pd.DataFrame({'upper_bound':upper_bound, 'num_of_outliers_U':num_of_outl})"
      ]
    },
    {
      "cell_type": "code",
      "execution_count": null,
      "id": "ac134494-8670-4f90-9473-0eaf6c7a7c01",
      "metadata": {
        "id": "ac134494-8670-4f90-9473-0eaf6c7a7c01",
        "outputId": "e5c57584-861e-4719-d1a7-3430b3d58bde"
      },
      "outputs": [
        {
          "data": {
            "text/html": [
              "<div>\n",
              "<style scoped>\n",
              "    .dataframe tbody tr th:only-of-type {\n",
              "        vertical-align: middle;\n",
              "    }\n",
              "\n",
              "    .dataframe tbody tr th {\n",
              "        vertical-align: top;\n",
              "    }\n",
              "\n",
              "    .dataframe thead th {\n",
              "        text-align: right;\n",
              "    }\n",
              "</style>\n",
              "<table border=\"1\" class=\"dataframe\">\n",
              "  <thead>\n",
              "    <tr style=\"text-align: right;\">\n",
              "      <th></th>\n",
              "      <th>upper_bound</th>\n",
              "      <th>num_of_outliers_U</th>\n",
              "    </tr>\n",
              "  </thead>\n",
              "  <tbody>\n",
              "    <tr>\n",
              "      <th>DEFAULT</th>\n",
              "      <td>1.000000</td>\n",
              "      <td>0</td>\n",
              "    </tr>\n",
              "    <tr>\n",
              "      <th>AGE</th>\n",
              "      <td>58.000000</td>\n",
              "      <td>228</td>\n",
              "    </tr>\n",
              "    <tr>\n",
              "      <th>ACADMOS</th>\n",
              "      <td>240.000000</td>\n",
              "      <td>238</td>\n",
              "    </tr>\n",
              "    <tr>\n",
              "      <th>ADEPCNT</th>\n",
              "      <td>4.000000</td>\n",
              "      <td>122</td>\n",
              "    </tr>\n",
              "    <tr>\n",
              "      <th>MAJORDRG</th>\n",
              "      <td>2.000000</td>\n",
              "      <td>63</td>\n",
              "    </tr>\n",
              "    <tr>\n",
              "      <th>MINORDRG</th>\n",
              "      <td>2.000000</td>\n",
              "      <td>179</td>\n",
              "    </tr>\n",
              "    <tr>\n",
              "      <th>OWNRENT</th>\n",
              "      <td>1.000000</td>\n",
              "      <td>0</td>\n",
              "    </tr>\n",
              "    <tr>\n",
              "      <th>INCOME</th>\n",
              "      <td>6250.000000</td>\n",
              "      <td>228</td>\n",
              "    </tr>\n",
              "    <tr>\n",
              "      <th>SELFEMPL</th>\n",
              "      <td>1.000000</td>\n",
              "      <td>0</td>\n",
              "    </tr>\n",
              "    <tr>\n",
              "      <th>INCPER</th>\n",
              "      <td>59632.000000</td>\n",
              "      <td>262</td>\n",
              "    </tr>\n",
              "    <tr>\n",
              "      <th>SPENDING</th>\n",
              "      <td>965.093737</td>\n",
              "      <td>262</td>\n",
              "    </tr>\n",
              "  </tbody>\n",
              "</table>\n",
              "</div>"
            ],
            "text/plain": [
              "           upper_bound  num_of_outliers_U\n",
              "DEFAULT       1.000000                  0\n",
              "AGE          58.000000                228\n",
              "ACADMOS     240.000000                238\n",
              "ADEPCNT       4.000000                122\n",
              "MAJORDRG      2.000000                 63\n",
              "MINORDRG      2.000000                179\n",
              "OWNRENT       1.000000                  0\n",
              "INCOME     6250.000000                228\n",
              "SELFEMPL      1.000000                  0\n",
              "INCPER    59632.000000                262\n",
              "SPENDING    965.093737                262"
            ]
          },
          "execution_count": 112,
          "metadata": {},
          "output_type": "execute_result"
        }
      ],
      "source": [
        "outliers"
      ]
    },
    {
      "cell_type": "code",
      "execution_count": null,
      "id": "5d8349b8-e34e-4efc-b795-aed8005b514d",
      "metadata": {
        "id": "5d8349b8-e34e-4efc-b795-aed8005b514d"
      },
      "outputs": [],
      "source": [
        "for row in outliers.iterrows():\n",
        "    df = df[df[row[0]] <= row[1]['upper_bound']]"
      ]
    },
    {
      "cell_type": "code",
      "execution_count": null,
      "id": "f06eb87d-0a8f-4b5a-931e-4a69f20c5e42",
      "metadata": {
        "id": "f06eb87d-0a8f-4b5a-931e-4a69f20c5e42",
        "outputId": "702c2ee6-f718-4307-cfa4-697584c41c14"
      },
      "outputs": [
        {
          "data": {
            "text/plain": [
              "(9149, 11)"
            ]
          },
          "execution_count": 114,
          "metadata": {},
          "output_type": "execute_result"
        }
      ],
      "source": [
        "df.shape"
      ]
    },
    {
      "cell_type": "markdown",
      "id": "162c4c53-08d5-4222-aefd-c3a361e750af",
      "metadata": {
        "id": "162c4c53-08d5-4222-aefd-c3a361e750af"
      },
      "source": [
        "Ultimately, the set has 9149 observations and 11 variables"
      ]
    },
    {
      "cell_type": "markdown",
      "id": "89282da3-e65d-4080-bd73-9e34d93ed822",
      "metadata": {
        "id": "89282da3-e65d-4080-bd73-9e34d93ed822"
      },
      "source": [
        "<h3> Dataset splitting </h3>\n",
        "The set was divided into two samples - training and test, so that 20% of the data set was in the test set along with the shifting of observations"
      ]
    },
    {
      "cell_type": "code",
      "execution_count": null,
      "id": "98b29914-0033-46e3-9b58-1ae97b653a0b",
      "metadata": {
        "id": "98b29914-0033-46e3-9b58-1ae97b653a0b"
      },
      "outputs": [],
      "source": [
        "#listy zmiennych\n",
        "kategoryczne_zmienne = ['ADEPCNT', 'MAJORDRG', 'MINORDRG', 'OWNRENT', 'SELFEMPL']\n",
        "ciagle_zmienne = ['AGE', 'INCOME', 'INCPER', 'SPENDING']"
      ]
    },
    {
      "cell_type": "code",
      "execution_count": null,
      "id": "a0b38f7f-ec01-478f-ac59-6bc0a3960456",
      "metadata": {
        "id": "a0b38f7f-ec01-478f-ac59-6bc0a3960456"
      },
      "outputs": [],
      "source": [
        "df_raw = df.copy()\n",
        "df_train, df_test = train_test_split(df, test_size=0.2, shuffle=True, random_state=2022)"
      ]
    },
    {
      "cell_type": "markdown",
      "id": "71023e76-42e2-4938-b143-fec7884abcf3",
      "metadata": {
        "id": "71023e76-42e2-4938-b143-fec7884abcf3"
      },
      "source": [
        "<h3> Datasets </h3>\n",
        "\n",
        "In order to investigate the influence of variables on the predictive qualities, it was decided to use the following data sets:\n",
        "<ul>\n",
        "<li> Raw data excluding variables removed from the set in the chapter above </li>\n",
        "<li> Categorized continuous and transformed to WoE variables </li>\n",
        "<li> Categorized Variables Using a Decision Tree </li>\n",
        "\n",
        "\n",
        "<ul>"
      ]
    },
    {
      "cell_type": "markdown",
      "id": "4873b6eb-343c-4af5-b262-3b0b55f5d8e3",
      "metadata": {
        "id": "4873b6eb-343c-4af5-b262-3b0b55f5d8e3"
      },
      "source": [
        "<h4> Create a set with WoE variables </h4>\n",
        "\n",
        "To improve the quality of the model, the variables will be discredited continuously, and the next ones will be transformed into WoE values. This set will be used to check the probabilities of chances for individual variables."
      ]
    },
    {
      "cell_type": "code",
      "execution_count": null,
      "id": "b134d2b4-fed0-4229-920e-f56af9fa5a8e",
      "metadata": {
        "id": "b134d2b4-fed0-4229-920e-f56af9fa5a8e"
      },
      "outputs": [],
      "source": [
        "#selecting variables with more than 20 unique values\n",
        "zmienne_do_kategoryzacji = [zmienna for zmienna in df.columns if df[zmienna].unique().shape[0] > 20]\n"
      ]
    },
    {
      "cell_type": "code",
      "execution_count": null,
      "id": "f21e2553-574c-46f1-9ebb-f9b9ae42fdd1",
      "metadata": {
        "id": "f21e2553-574c-46f1-9ebb-f9b9ae42fdd1"
      },
      "outputs": [],
      "source": [
        "#kopia danych\n",
        "df_woe = df_raw.copy()\n",
        "df_train_woe = df_train.copy()\n",
        "df_test_woe = df_test.copy()"
      ]
    },
    {
      "cell_type": "code",
      "execution_count": null,
      "id": "b0f20520-b474-456f-aee3-cb3f09aa3a48",
      "metadata": {
        "id": "b0f20520-b474-456f-aee3-cb3f09aa3a48"
      },
      "outputs": [],
      "source": [
        "l=[]\n",
        "card = pd.DataFrame()\n",
        "\n",
        "#stworzenie 10 kategorii dla zmiennych\n",
        "for x in zmienne_do_kategoryzacji:\n",
        "    pomocnicza = pd.DataFrame()\n",
        "    \n",
        "    df_woe[x]= pd.qcut(df_woe[x], 10)\n",
        "    pomocnicza['poz'] = df_woe[x]\n",
        "    df_woe[x]= df_woe[x].cat.codes\n",
        "    \n",
        "    pomocnicza['poziom_zmiennej'] = df_woe[x]\n",
        "    pomocnicza['zmienna'] = x\n",
        "    \n",
        "    card = pd.concat([card, pomocnicza])\n",
        "\n",
        "df_train_woe, df_test_woe = train_test_split(df_woe, test_size=0.2, shuffle=True, random_state=2022)\n",
        "df_woe_tab = df_woe.copy()\n",
        "card = card.drop_duplicates().sort_values(['zmienna', 'poziom_zmiennej'])\n"
      ]
    },
    {
      "cell_type": "code",
      "execution_count": null,
      "id": "994a82ed-d468-419c-aab6-a97e6386dbac",
      "metadata": {
        "id": "994a82ed-d468-419c-aab6-a97e6386dbac"
      },
      "outputs": [],
      "source": [
        "# IV and WoE counting function for variables\n",
        "def calculate_woe_iv(dataset, feature, target):\n",
        "    lst = []\n",
        "    for i in range(dataset[feature].nunique()):\n",
        "        val = list(dataset[feature].unique())[i]\n",
        "        lst.append({\n",
        "            'Value': val,\n",
        "            'All': dataset[dataset[feature] == val].count()[feature],\n",
        "            'Good': dataset[(dataset[feature] == val) & (dataset[target] == 0)].count()[feature],\n",
        "            'Bad': dataset[(dataset[feature] == val) & (dataset[target] == 1)].count()[feature]\n",
        "        }) \n",
        "    dset = pd.DataFrame(lst)\n",
        "    dset['Distr_Good'] = dset['Good'] / dset['Good'].sum()\n",
        "    dset['Distr_Bad'] = dset['Bad'] / dset['Bad'].sum()\n",
        "    dset[col+'_WoE'] = np.log(dset['Distr_Good'] / dset['Distr_Bad'])\n",
        "    dset = dset.replace({col+'_WoE': {np.inf: 0, -np.inf: 0}})\n",
        "    dset['IV'] = (dset['Distr_Good'] - dset['Distr_Bad']) * dset[col+'_WoE']\n",
        "    iv = dset['IV'].sum()\n",
        "    dset = dset.sort_values(by=col+'_WoE')\n",
        "    return dset, iv\n"
      ]
    },
    {
      "cell_type": "code",
      "execution_count": null,
      "id": "cd416dcb-3805-4c63-a7fa-d40f2c0428f4",
      "metadata": {
        "id": "cd416dcb-3805-4c63-a7fa-d40f2c0428f4"
      },
      "outputs": [],
      "source": [
        "karta = pd.DataFrame()\n",
        "lst = []\n",
        "IV_df = pd.DataFrame(columns=['Variable','IV'])\n",
        "for col in df_woe.columns:\n",
        "    if col == 'DEFAULT': continue\n",
        "    else:\n",
        "        df_, iv = calculate_woe_iv(df_woe, col, 'DEFAULT')\n",
        "        df_train_woe = df_train_woe.merge(df_[['Value',col+'_WoE']], left_on=col, right_on='Value', how='left')\n",
        "        df_train_woe.drop(columns=[col, 'Value'], inplace=True)\n",
        "        df_test_woe = df_test_woe.merge(df_[['Value',col+'_WoE']], left_on=col, right_on='Value', how='left')\n",
        "        df_test_woe.drop(columns=[col, 'Value'], inplace=True)\n",
        "        \n",
        "        d1 = df_woe_tab[['DEFAULT',col]].merge(df_, left_on=col, right_on='Value').groupby(col).count().reset_index()\n",
        "        d1['zmienna'] = col\n",
        "        d1.rename(columns={col: 'poziom_zmiennej'}, inplace=True)\n",
        "        d1 = d1.filter(['zmienna', 'poziom_zmiennej'])\n",
        "        d1 = d1.merge(df_, left_on='poziom_zmiennej', right_on='Value', how='left').filter(['zmienna', 'poziom_zmiennej', col+'_WoE' ])\n",
        "        d1.rename(columns={col+'_WoE': 'WoE'}, inplace=True)\n",
        "        karta = pd.concat([karta, d1])\n",
        "\n",
        "\n",
        "               \n",
        "    lst.append(df_)\n",
        "    IV_df = IV_df.append({\n",
        "                \"Variable\" :col ,\n",
        "                \"IV\" : iv,\n",
        "                },ignore_index=True)\n",
        "             \n"
      ]
    },
    {
      "cell_type": "code",
      "execution_count": null,
      "id": "22ccfd4d-6718-49db-84a0-3e8dcb83598c",
      "metadata": {
        "id": "22ccfd4d-6718-49db-84a0-3e8dcb83598c"
      },
      "outputs": [],
      "source": [
        "karta = karta.merge(card, on=['zmienna', 'poziom_zmiennej'], how='left')\n",
        "karta['poz'] = np.where(karta.poz.isnull(), karta.poziom_zmiennej, karta.poz)\n",
        "karta['poz'] = karta['poz'].astype(str)"
      ]
    },
    {
      "cell_type": "code",
      "execution_count": null,
      "id": "9974c925-c201-4738-99e6-b5de2055c735",
      "metadata": {
        "id": "9974c925-c201-4738-99e6-b5de2055c735",
        "outputId": "45cbfffc-5896-4518-9b9f-121f07a81deb"
      },
      "outputs": [
        {
          "data": {
            "text/html": [
              "<div>\n",
              "<style scoped>\n",
              "    .dataframe tbody tr th:only-of-type {\n",
              "        vertical-align: middle;\n",
              "    }\n",
              "\n",
              "    .dataframe tbody tr th {\n",
              "        vertical-align: top;\n",
              "    }\n",
              "\n",
              "    .dataframe thead th {\n",
              "        text-align: right;\n",
              "    }\n",
              "</style>\n",
              "<table border=\"1\" class=\"dataframe\">\n",
              "  <thead>\n",
              "    <tr style=\"text-align: right;\">\n",
              "      <th></th>\n",
              "      <th>Variable</th>\n",
              "      <th>IV</th>\n",
              "    </tr>\n",
              "  </thead>\n",
              "  <tbody>\n",
              "    <tr>\n",
              "      <th>0</th>\n",
              "      <td>AGE</td>\n",
              "      <td>0.151069</td>\n",
              "    </tr>\n",
              "    <tr>\n",
              "      <th>1</th>\n",
              "      <td>ACADMOS</td>\n",
              "      <td>0.164773</td>\n",
              "    </tr>\n",
              "    <tr>\n",
              "      <th>2</th>\n",
              "      <td>ADEPCNT</td>\n",
              "      <td>0.013987</td>\n",
              "    </tr>\n",
              "    <tr>\n",
              "      <th>3</th>\n",
              "      <td>MAJORDRG</td>\n",
              "      <td>0.008762</td>\n",
              "    </tr>\n",
              "    <tr>\n",
              "      <th>4</th>\n",
              "      <td>MINORDRG</td>\n",
              "      <td>0.010729</td>\n",
              "    </tr>\n",
              "    <tr>\n",
              "      <th>5</th>\n",
              "      <td>OWNRENT</td>\n",
              "      <td>0.037228</td>\n",
              "    </tr>\n",
              "    <tr>\n",
              "      <th>6</th>\n",
              "      <td>INCOME</td>\n",
              "      <td>0.331796</td>\n",
              "    </tr>\n",
              "    <tr>\n",
              "      <th>7</th>\n",
              "      <td>SELFEMPL</td>\n",
              "      <td>0.000514</td>\n",
              "    </tr>\n",
              "    <tr>\n",
              "      <th>8</th>\n",
              "      <td>INCPER</td>\n",
              "      <td>0.365279</td>\n",
              "    </tr>\n",
              "    <tr>\n",
              "      <th>9</th>\n",
              "      <td>SPENDING</td>\n",
              "      <td>0.051281</td>\n",
              "    </tr>\n",
              "  </tbody>\n",
              "</table>\n",
              "</div>"
            ],
            "text/plain": [
              "   Variable        IV\n",
              "0       AGE  0.151069\n",
              "1   ACADMOS  0.164773\n",
              "2   ADEPCNT  0.013987\n",
              "3  MAJORDRG  0.008762\n",
              "4  MINORDRG  0.010729\n",
              "5   OWNRENT  0.037228\n",
              "6    INCOME  0.331796\n",
              "7  SELFEMPL  0.000514\n",
              "8    INCPER  0.365279\n",
              "9  SPENDING  0.051281"
            ]
          },
          "execution_count": 249,
          "metadata": {},
          "output_type": "execute_result"
        }
      ],
      "source": [
        "IV_df"
      ]
    },
    {
      "cell_type": "markdown",
      "id": "34a34553-092b-4504-8aae-a9459e686697",
      "metadata": {
        "id": "34a34553-092b-4504-8aae-a9459e686697"
      },
      "source": [
        "Not all variables have a high predictive value. Variables that show very poor usefulness in predicting default (below the level of 0.02) were removed from the WoE set"
      ]
    },
    {
      "cell_type": "code",
      "execution_count": null,
      "id": "d82e7412-bdf4-4e9d-935e-0641587a3c79",
      "metadata": {
        "id": "d82e7412-bdf4-4e9d-935e-0641587a3c79"
      },
      "outputs": [],
      "source": [
        "df_train_woe_all = df_train_woe.copy()\n",
        "df_test_woe_all = df_test_woe.copy()\n",
        "\n",
        "#list of variables below 0.02\n",
        "to_drop = list(IV_df['Variable'].loc[IV_df['IV']<0.02])\n",
        "to_drop = [x+'_WoE' for x in to_drop]"
      ]
    },
    {
      "cell_type": "code",
      "execution_count": null,
      "id": "f3fde5e7-e20f-4020-930e-76c3a1f4271c",
      "metadata": {
        "id": "f3fde5e7-e20f-4020-930e-76c3a1f4271c"
      },
      "outputs": [],
      "source": [
        "# drop variables\n",
        "df_train_woe.drop(columns=to_drop, inplace=True) \n",
        "df_test_woe.drop(columns=to_drop, inplace=True)"
      ]
    },
    {
      "cell_type": "markdown",
      "id": "c3307a72-8a78-48f2-9ce1-4aa01d1bac23",
      "metadata": {
        "id": "c3307a72-8a78-48f2-9ce1-4aa01d1bac23"
      },
      "source": [
        "<h4>Utworzenie zbioru ze zmiennymi kategorycznymi drzew</h4>\n",
        "Ostatni zbiór danych charakteryzuje się kategoryzacją zmiennych za pomocą drzew decyzyjnych, z maksymalną głebokością drzewa ustaloną na poziomie 3."
      ]
    },
    {
      "cell_type": "code",
      "execution_count": null,
      "id": "836ac62a-3003-4b86-bd65-f76bda2f72ca",
      "metadata": {
        "id": "836ac62a-3003-4b86-bd65-f76bda2f72ca"
      },
      "outputs": [],
      "source": [
        "from sklearn.tree import DecisionTreeClassifier\n",
        "\n",
        "#categorization function\n",
        "def categorize_data(x, y):\n",
        "    dt_model = DecisionTreeClassifier(max_depth = 3)\n",
        "    dt_model.fit(x.values.reshape(-1, 1), y)\n",
        "    categories = dt_model.apply(x.values.reshape(-1, 1))\n",
        "    return dt_model, categories\n"
      ]
    },
    {
      "cell_type": "code",
      "execution_count": null,
      "id": "dc912356-63fa-4f2e-a015-134b70a88cda",
      "metadata": {
        "id": "dc912356-63fa-4f2e-a015-134b70a88cda"
      },
      "outputs": [],
      "source": [
        "df_kat = df.copy()\n",
        "df_train_kat = df_train.copy()\n",
        "df_test_kat = df_test.copy()\n",
        "target = 'DEFAULT'\n",
        "\n",
        "\n",
        "for zmienna in zmienne_do_kategoryzacji:\n",
        "    model, kategorie = categorize_data(df_train_kat[zmienna], df_train_kat[target])\n",
        "    df_train_kat = df_train_kat.assign(_kat = kategorie)\n",
        "    df_test_kat = df_test_kat.assign(_kat = model.apply(df_test_kat[zmienna].values.reshape(-1, 1)))\n",
        "    \n",
        "    nazwa_zmiennej = zmienna + '_kat'\n",
        "    \n",
        "    df_train_kat.rename(columns = {'_kat' : nazwa_zmiennej}, inplace = True)\n",
        "    df_test_kat.rename(columns = {'_kat' : nazwa_zmiennej}, inplace = True)\n",
        "    \n",
        "df_train_kat.drop(columns = zmienne_do_kategoryzacji, inplace=True)\n",
        "df_test_kat.drop(columns = zmienne_do_kategoryzacji, inplace=True)"
      ]
    },
    {
      "cell_type": "markdown",
      "id": "e519a2c8-6104-4b7b-b874-f74f1fad83c5",
      "metadata": {
        "id": "e519a2c8-6104-4b7b-b874-f74f1fad83c5"
      },
      "source": [
        "<h1> Logit and Probit models for odds ratios </h1>\n",
        "\n",
        "First, the odds ratios for the Logit and Probit models were checked. The Logit and Probit models are not subject to much overtraining as is the case with decision tree models, and as a result, no cross-validation has been applied."
      ]
    },
    {
      "cell_type": "code",
      "execution_count": null,
      "id": "652677d4-d94b-4448-a982-4b77110fc826",
      "metadata": {
        "id": "652677d4-d94b-4448-a982-4b77110fc826"
      },
      "outputs": [],
      "source": [
        "def build_model1(data_train, data_test ,features, target ,plots, model=Logit):\n",
        "    #X_train, X_test, y_train, y_test = train_test_split(data[features_woe],data[target], test_size=0.2, shuffle=True, random_state=2022)\n",
        "    X_train = data_train[features]\n",
        "    y_train = data_train[target]\n",
        "    X_test = data_test[features]\n",
        "    y_test = data_test[target]\n",
        "\n",
        "    model = model(y_train, X_train).fit(disp = 0)\n",
        "    pre = model.predict(X_test)\n",
        "    fpr, tpr, thresholds = roc_curve(y_test, pre)\n",
        "    gini_score = 2 * auc(fpr, tpr) - 1\n",
        "    #print('Gini score: {}.'.format(round(gini_score,3)))\n",
        "    \n",
        "    if plots == True:\n",
        "        # ROC CURVE\n",
        "        plt.figure()\n",
        "        lw = 2\n",
        "        plt.plot(fpr, tpr, color='blue',\n",
        "                 lw=lw, label='ROC curve (area under curve = %0.3f)' % auc(fpr, tpr))\n",
        "        plt.plot([0, 1], [0, 1], color='navy', lw=lw, linestyle='--')\n",
        "        plt.xlim([0.0, 1.0])\n",
        "        plt.ylim([0.0, 1.05])\n",
        "        plt.xlabel('False Positive Rate')\n",
        "        plt.ylabel('True Positive Rate')\n",
        "        plt.title('ROC curve')\n",
        "        plt.legend(loc=\"lower right\")\n",
        "        plt.show()\n",
        "\n",
        "        # DENSITY PLOT\n",
        "        pre = pd.DataFrame(pre, columns = ['prob'])\n",
        "        pre['pred_class'] = 1\n",
        "        pre.loc[pre.prob < 0.5,'pred_class'] = 0\n",
        "        pre['real_class'] = y_va\n",
        "\n",
        "        sns.distplot(pre[pre.real_class == 0]['prob'], label = 'negatives').set(title = 'Density plot', xlabel = 'probability')\n",
        "        sns.distplot(pre[pre.real_class == 1]['prob'], label = 'positives').set(title = 'Density plot', xlabel = 'probability')\n",
        "        plt.legend()\n",
        "        plt.show()\n",
        "    return gini_score, model"
      ]
    },
    {
      "cell_type": "code",
      "execution_count": null,
      "id": "fa8ad9f5-170a-4a5d-8a17-39b83ef7eb1b",
      "metadata": {
        "id": "fa8ad9f5-170a-4a5d-8a17-39b83ef7eb1b"
      },
      "outputs": [],
      "source": [
        "for zmienna in ['ADEPCNT', 'MAJORDRG', 'MINORDRG']:\n",
        "    df_raw[zmienna] = df_raw[zmienna].astype(str)\n",
        "df_train, df_test = train_test_split(df_raw, test_size=0.2, shuffle=True, random_state=2022)"
      ]
    },
    {
      "cell_type": "code",
      "execution_count": null,
      "id": "bd2da459-4b49-4731-8979-407006ba9ab9",
      "metadata": {
        "id": "bd2da459-4b49-4731-8979-407006ba9ab9"
      },
      "outputs": [],
      "source": [
        "for zmienna in ['ADEPCNT', 'MAJORDRG', 'MINORDRG']:\n",
        "    df_test_kat[zmienna] = df_test_kat[zmienna].astype(str)\n",
        "    df_train_kat[zmienna] = df_train_kat[zmienna].astype(str)"
      ]
    },
    {
      "cell_type": "code",
      "execution_count": null,
      "id": "c88fe05e-b052-4a08-9812-586bdd4dad11",
      "metadata": {
        "id": "c88fe05e-b052-4a08-9812-586bdd4dad11"
      },
      "outputs": [],
      "source": [
        "df_train = pd.get_dummies(df_train, drop_first=True)\n",
        "df_test = pd.get_dummies(df_test, drop_first=True)\n",
        "df_train_kat = pd.get_dummies(df_train_kat, drop_first=True)\n",
        "df_test_kat = pd.get_dummies(df_test_kat, drop_first=True)"
      ]
    },
    {
      "cell_type": "code",
      "execution_count": null,
      "id": "ac9b91e2-bf3f-4faa-951e-989a0399ca1f",
      "metadata": {
        "id": "ac9b91e2-bf3f-4faa-951e-989a0399ca1f"
      },
      "outputs": [],
      "source": [
        "# creating a list of variables\n",
        "features = list(df_test.columns)\n",
        "features.remove('DEFAULT')\n",
        "features_woe = list(df_test_woe.columns)\n",
        "features_woe.remove('DEFAULT')\n",
        "features_woe_all = list(df_test_woe_all.columns)\n",
        "features_woe_all.remove('DEFAULT')\n",
        "features_kat = list(df_test_kat.columns)\n",
        "features_kat.remove('DEFAULT')\n",
        "target='DEFAULT'"
      ]
    },
    {
      "cell_type": "code",
      "execution_count": null,
      "id": "a0112a66-61e3-4d44-b952-5384457543e3",
      "metadata": {
        "id": "a0112a66-61e3-4d44-b952-5384457543e3"
      },
      "outputs": [],
      "source": [
        "#all variables\n",
        "score_raw_logit, model_raw_logit = build_model1(data_train = df_train, data_test = df_test ,features = features, target=target ,plots=False, model=Logit)\n",
        "score_raw_probit, model_raw_probit = build_model1(data_train = df_train, data_test = df_test ,features = features, target=target ,plots=False, model=Probit)\n",
        "#WoE\n",
        "score_woe_logit, model_woe_logit = build_model1(data_train = df_train_woe, data_test = df_test_woe ,features = features_woe, target=target ,plots=False, model=Logit)\n",
        "score_woe_probit, model_woe_probit = build_model1(data_train = df_train_woe, data_test = df_test_woe ,features = features_woe, target=target ,plots=False, model=Probit)\n",
        "#Woe all \n",
        "score_woe_logit_all, model_woe_logit_all = build_model1(data_train = df_train_woe_all, data_test = df_test_woe_all ,features = features_woe_all, target=target ,plots=False, model=Logit)\n",
        "score_woe_probit_all, model_woe_probit_all = build_model1(data_train = df_train_woe_all, data_test = df_test_woe_all ,features = features_woe_all, target=target ,plots=False, model=Probit)\n",
        "#cat decistion tree\n",
        "score_logit_kat, model_logit_kat = build_model1(data_train = df_train_kat, data_test = df_test_kat ,features = features_kat, target=target ,plots=False, model=Logit)\n",
        "score_probit_kat, model_probit_kat = build_model1(data_train = df_train_kat, data_test = df_test_kat ,features = features_kat, target=target ,plots=False, model=Probit)\n"
      ]
    },
    {
      "cell_type": "code",
      "execution_count": null,
      "id": "54c664e0-3c90-473a-9b19-e1bbf81dd1ca",
      "metadata": {
        "id": "54c664e0-3c90-473a-9b19-e1bbf81dd1ca",
        "outputId": "616fee90-8e60-47cf-9c85-88475e58956b"
      },
      "outputs": [
        {
          "data": {
            "text/html": [
              "<div>\n",
              "<style scoped>\n",
              "    .dataframe tbody tr th:only-of-type {\n",
              "        vertical-align: middle;\n",
              "    }\n",
              "\n",
              "    .dataframe tbody tr th {\n",
              "        vertical-align: top;\n",
              "    }\n",
              "\n",
              "    .dataframe thead th {\n",
              "        text-align: right;\n",
              "    }\n",
              "</style>\n",
              "<table border=\"1\" class=\"dataframe\">\n",
              "  <thead>\n",
              "    <tr style=\"text-align: right;\">\n",
              "      <th></th>\n",
              "      <th>Logit RAW</th>\n",
              "      <th>Probit RAW</th>\n",
              "      <th>Logit WOE</th>\n",
              "      <th>Probit WOE</th>\n",
              "      <th>Logit WOE ALL</th>\n",
              "      <th>Probit WOE ALL</th>\n",
              "      <th>Logit DT Kat</th>\n",
              "      <th>Probit DT Kat</th>\n",
              "    </tr>\n",
              "  </thead>\n",
              "  <tbody>\n",
              "    <tr>\n",
              "      <th>0</th>\n",
              "      <td>0.302595</td>\n",
              "      <td>0.301759</td>\n",
              "      <td>0.439848</td>\n",
              "      <td>0.442755</td>\n",
              "      <td>0.443629</td>\n",
              "      <td>0.446294</td>\n",
              "      <td>0.324685</td>\n",
              "      <td>0.32645</td>\n",
              "    </tr>\n",
              "  </tbody>\n",
              "</table>\n",
              "</div>"
            ],
            "text/plain": [
              "   Logit RAW  Probit RAW  Logit WOE  Probit WOE  Logit WOE ALL  \\\n",
              "0   0.302595    0.301759   0.439848    0.442755       0.443629   \n",
              "\n",
              "   Probit WOE ALL  Logit DT Kat  Probit DT Kat  \n",
              "0        0.446294      0.324685        0.32645  "
            ]
          },
          "execution_count": 271,
          "metadata": {},
          "output_type": "execute_result"
        }
      ],
      "source": [
        "pd.DataFrame([[score_raw_logit,score_raw_probit, score_woe_logit,score_woe_probit,score_woe_logit_all,score_woe_probit_all, score_logit_kat, score_probit_kat  ]], \n",
        "             columns = ['Logit RAW', 'Probit RAW', 'Logit WOE', 'Probit WOE', 'Logit WOE ALL', 'Probit WOE ALL', 'Logit DT Kat', 'Probit DT Kat'])"
      ]
    },
    {
      "cell_type": "markdown",
      "id": "e66ffcc9-8cac-4309-8977-327eb8b152a5",
      "metadata": {
        "id": "e66ffcc9-8cac-4309-8977-327eb8b152a5"
      },
      "source": [
        "The best model in terms of the Gini measure is the Probit model estimated on all WoE variables. The second-best result is also the probit model for WoE variables with the removal of variables with an IV value below 0.02. However, taking into account that the model is only worse by approx. 0.004, with the expulsion of 4 variables, it was possible to simplify the functional form of the model, slightly worsening the result. The same is true of the Logit model, which differs slightly from the probit model.\n",
        "\n",
        "Then, the estimation results for the four best estimates were checked - Probit and Logit with WoE variables"
      ]
    },
    {
      "cell_type": "code",
      "execution_count": null,
      "id": "eb92c382-43ed-4c3c-82d7-03a3649089bc",
      "metadata": {
        "id": "eb92c382-43ed-4c3c-82d7-03a3649089bc",
        "outputId": "4d16fea5-718a-4e83-a1a1-ae9cb724944d"
      },
      "outputs": [
        {
          "data": {
            "text/html": [
              "<table class=\"simpletable\">\n",
              "<tr>\n",
              "        <td></td>       <th>Probit WoE</th>  <th>Logit Woe</th> <th>Probit WoE ALL</th> <th>Logit WoE ALL</th>\n",
              "</tr>\n",
              "<tr>\n",
              "  <th>ACADMOS_WoE</th>  <td>-0.3705***</td> <td>-0.5986***</td>   <td>-0.3683***</td>    <td>-0.3683***</td>  \n",
              "</tr>\n",
              "<tr>\n",
              "  <th></th>              <td>(0.0378)</td>   <td>(0.0616)</td>     <td>(0.0380)</td>      <td>(0.0380)</td>   \n",
              "</tr>\n",
              "<tr>\n",
              "  <th>ADEPCNT_WoE</th>       <td></td>           <td></td>        <td>-0.7421***</td>    <td>-0.7421***</td>  \n",
              "</tr>\n",
              "<tr>\n",
              "  <th></th>                  <td></td>           <td></td>         <td>(0.1292)</td>      <td>(0.1292)</td>   \n",
              "</tr>\n",
              "<tr>\n",
              "  <th>AGE_WoE</th>      <td>-0.5538***</td> <td>-0.9634***</td>   <td>-0.5917***</td>    <td>-0.5917***</td>  \n",
              "</tr>\n",
              "<tr>\n",
              "  <th></th>              <td>(0.0429)</td>   <td>(0.0752)</td>     <td>(0.0434)</td>      <td>(0.0434)</td>   \n",
              "</tr>\n",
              "<tr>\n",
              "  <th>INCOME_WoE</th>   <td>-0.2137***</td> <td>-0.3473***</td>   <td>-0.2210***</td>    <td>-0.2210***</td>  \n",
              "</tr>\n",
              "<tr>\n",
              "  <th></th>              <td>(0.0294)</td>   <td>(0.0479)</td>     <td>(0.0296)</td>      <td>(0.0296)</td>   \n",
              "</tr>\n",
              "<tr>\n",
              "  <th>INCPER_WoE</th>   <td>-0.2009***</td> <td>-0.3307***</td>   <td>-0.1956***</td>    <td>-0.1956***</td>  \n",
              "</tr>\n",
              "<tr>\n",
              "  <th></th>              <td>(0.0288)</td>   <td>(0.0470)</td>     <td>(0.0289)</td>      <td>(0.0289)</td>   \n",
              "</tr>\n",
              "<tr>\n",
              "  <th>MAJORDRG_WoE</th>      <td></td>           <td></td>        <td>-1.0374***</td>    <td>-1.0374***</td>  \n",
              "</tr>\n",
              "<tr>\n",
              "  <th></th>                  <td></td>           <td></td>         <td>(0.1707)</td>      <td>(0.1707)</td>   \n",
              "</tr>\n",
              "<tr>\n",
              "  <th>MINORDRG_WoE</th>      <td></td>           <td></td>        <td>-0.6985***</td>    <td>-0.6985***</td>  \n",
              "</tr>\n",
              "<tr>\n",
              "  <th></th>                  <td></td>           <td></td>         <td>(0.1509)</td>      <td>(0.1509)</td>   \n",
              "</tr>\n",
              "<tr>\n",
              "  <th>OWNRENT_WoE</th>  <td>-0.3364***</td> <td>-0.5237***</td>   <td>-0.3937***</td>    <td>-0.3937***</td>  \n",
              "</tr>\n",
              "<tr>\n",
              "  <th></th>              <td>(0.0795)</td>   <td>(0.1279)</td>     <td>(0.0802)</td>      <td>(0.0802)</td>   \n",
              "</tr>\n",
              "<tr>\n",
              "  <th>SELFEMPL_WoE</th>      <td></td>           <td></td>          <td>0.6979</td>        <td>0.6979</td>    \n",
              "</tr>\n",
              "<tr>\n",
              "  <th></th>                  <td></td>           <td></td>         <td>(0.6580)</td>      <td>(0.6580)</td>   \n",
              "</tr>\n",
              "<tr>\n",
              "  <th>SPENDING_WoE</th>  <td>0.4263***</td>  <td>0.7302***</td>    <td>0.4116***</td>     <td>0.4116***</td>  \n",
              "</tr>\n",
              "<tr>\n",
              "  <th></th>              <td>(0.0897)</td>   <td>(0.1611)</td>     <td>(0.0904)</td>      <td>(0.0904)</td>   \n",
              "</tr>\n",
              "</table>"
            ],
            "text/plain": [
              "<class 'statsmodels.iolib.summary2.Summary'>\n",
              "\"\"\"\n",
              "\n",
              "===============================================================\n",
              "             Probit WoE Logit Woe  Probit WoE ALL Logit WoE ALL\n",
              "---------------------------------------------------------------\n",
              "ACADMOS_WoE  -0.3705*** -0.5986*** -0.3683***     -0.3683***   \n",
              "             (0.0378)   (0.0616)   (0.0380)       (0.0380)     \n",
              "ADEPCNT_WoE                        -0.7421***     -0.7421***   \n",
              "                                   (0.1292)       (0.1292)     \n",
              "AGE_WoE      -0.5538*** -0.9634*** -0.5917***     -0.5917***   \n",
              "             (0.0429)   (0.0752)   (0.0434)       (0.0434)     \n",
              "INCOME_WoE   -0.2137*** -0.3473*** -0.2210***     -0.2210***   \n",
              "             (0.0294)   (0.0479)   (0.0296)       (0.0296)     \n",
              "INCPER_WoE   -0.2009*** -0.3307*** -0.1956***     -0.1956***   \n",
              "             (0.0288)   (0.0470)   (0.0289)       (0.0289)     \n",
              "MAJORDRG_WoE                       -1.0374***     -1.0374***   \n",
              "                                   (0.1707)       (0.1707)     \n",
              "MINORDRG_WoE                       -0.6985***     -0.6985***   \n",
              "                                   (0.1509)       (0.1509)     \n",
              "OWNRENT_WoE  -0.3364*** -0.5237*** -0.3937***     -0.3937***   \n",
              "             (0.0795)   (0.1279)   (0.0802)       (0.0802)     \n",
              "SELFEMPL_WoE                       0.6979         0.6979       \n",
              "                                   (0.6580)       (0.6580)     \n",
              "SPENDING_WoE 0.4263***  0.7302***  0.4116***      0.4116***    \n",
              "             (0.0897)   (0.1611)   (0.0904)       (0.0904)     \n",
              "===============================================================\n",
              "Standard errors in parentheses.\n",
              "* p<.1, ** p<.05, ***p<.01\n",
              "\"\"\""
            ]
          },
          "execution_count": 272,
          "metadata": {},
          "output_type": "execute_result"
        }
      ],
      "source": [
        "Wyniki_estymacji = summary_col([model_woe_probit,model_woe_logit,model_woe_probit_all, model_woe_probit_all],model_names=['Probit WoE', 'Logit Woe', 'Probit WoE ALL', 'Logit WoE ALL'], stars=True)\n",
        "Wyniki_estymacji"
      ]
    },
    {
      "cell_type": "markdown",
      "id": "d7d8a0bf-44fa-45d8-b5c7-d3353dbd4c01",
      "metadata": {
        "id": "d7d8a0bf-44fa-45d8-b5c7-d3353dbd4c01"
      },
      "source": [
        "All the variables in the models except SELFEMPL_WoE are significant at the 1% level. It is possible that the other three significant variables - ADEPCNT_WoE, MAJORDRG_WoE, MINORDRG_WoE constitute the difference in the results between the estimates on both data sets. To improve the model, the Probit model was additionally estimated, for WoE variables, excluding only the insignificant variable - SELFEMPL_WoE"
      ]
    },
    {
      "cell_type": "code",
      "execution_count": null,
      "id": "10f20926-2627-47de-a45c-da3131445f8d",
      "metadata": {
        "id": "10f20926-2627-47de-a45c-da3131445f8d",
        "outputId": "d1c88650-152c-45b3-aa8d-a2c7dbc9c9a9"
      },
      "outputs": [
        {
          "name": "stdout",
          "output_type": "stream",
          "text": [
            "Gini Logit 0.4456866637893828\n",
            "Gini Probit 0.448372895986189\n"
          ]
        }
      ],
      "source": [
        "features_woe_self = features_woe_all.copy()\n",
        "features_woe_self.remove('SELFEMPL_WoE')\n",
        "\n",
        "score_woe_probit_self, model_woe_probit_self = build_model1(data_train = df_train_woe_all.drop(columns=['SELFEMPL_WoE']), data_test = df_test_woe_all.drop(columns=['SELFEMPL_WoE']),\n",
        "                                                            features = features_woe_self, target=target ,plots=False, model=Probit)\n",
        "score_woe_logit_self, model_woe_logit_self = build_model1(data_train = df_train_woe_all.drop(columns=['SELFEMPL_WoE']), data_test = df_test_woe_all.drop(columns=['SELFEMPL_WoE']),\n",
        "                                                            features = features_woe_self, target=target ,plots=False, model=Logit)\n",
        "\n",
        "print('Gini Logit', score_woe_logit_self )\n",
        "print('Gini Probit', score_woe_probit_self )"
      ]
    },
    {
      "cell_type": "markdown",
      "id": "f254c7b3-ad13-452c-80f0-705c039ae802",
      "metadata": {
        "id": "f254c7b3-ad13-452c-80f0-705c039ae802"
      },
      "source": [
        "The results for both the Logit and Probit models improved. The Gini measures are of better value than the earlier models that take into account 6 and 10 variables."
      ]
    },
    {
      "cell_type": "code",
      "execution_count": null,
      "id": "aaeaf316-2892-4972-b84f-38226519fe8a",
      "metadata": {
        "id": "aaeaf316-2892-4972-b84f-38226519fe8a"
      },
      "outputs": [],
      "source": [
        "szanse.reset_index(inplace=True)\n",
        "szanse['zmienna'] = szanse['index'].str[:-4]\n"
      ]
    },
    {
      "cell_type": "code",
      "execution_count": null,
      "id": "acb875e4-5d9e-4eb3-8fc8-fe14ff369ed6",
      "metadata": {
        "id": "acb875e4-5d9e-4eb3-8fc8-fe14ff369ed6"
      },
      "outputs": [],
      "source": [
        "karta = karta.merge(szanse, on='zmienna').drop(columns='index')\n",
        "karta = karta.filter(['zmienna', 'poz', 'Probit', 'WoE'])"
      ]
    },
    {
      "cell_type": "code",
      "execution_count": null,
      "id": "78a3063d-1f6b-4980-86ce-e868df51ad00",
      "metadata": {
        "id": "78a3063d-1f6b-4980-86ce-e868df51ad00",
        "outputId": "b02d0f77-c486-43ec-dc8c-c3843b0f7367"
      },
      "outputs": [
        {
          "data": {
            "text/html": [
              "<div>\n",
              "<style scoped>\n",
              "    .dataframe tbody tr th:only-of-type {\n",
              "        vertical-align: middle;\n",
              "    }\n",
              "\n",
              "    .dataframe tbody tr th {\n",
              "        vertical-align: top;\n",
              "    }\n",
              "\n",
              "    .dataframe thead th {\n",
              "        text-align: right;\n",
              "    }\n",
              "</style>\n",
              "<table border=\"1\" class=\"dataframe\">\n",
              "  <thead>\n",
              "    <tr style=\"text-align: right;\">\n",
              "      <th></th>\n",
              "      <th></th>\n",
              "      <th></th>\n",
              "      <th>WoE</th>\n",
              "    </tr>\n",
              "    <tr>\n",
              "      <th>zmienna</th>\n",
              "      <th>Probit</th>\n",
              "      <th>poz</th>\n",
              "      <th></th>\n",
              "    </tr>\n",
              "  </thead>\n",
              "  <tbody>\n",
              "    <tr>\n",
              "      <th rowspan=\"10\" valign=\"top\">AGE</th>\n",
              "      <th rowspan=\"10\" valign=\"top\">-0.44542</th>\n",
              "      <th>(17.999, 22.0]</th>\n",
              "      <td>-0.640434</td>\n",
              "    </tr>\n",
              "    <tr>\n",
              "      <th>(22.0, 24.0]</th>\n",
              "      <td>-0.103041</td>\n",
              "    </tr>\n",
              "    <tr>\n",
              "      <th>(24.0, 26.0]</th>\n",
              "      <td>0.198865</td>\n",
              "    </tr>\n",
              "    <tr>\n",
              "      <th>(26.0, 28.0]</th>\n",
              "      <td>0.001224</td>\n",
              "    </tr>\n",
              "    <tr>\n",
              "      <th>(28.0, 30.0]</th>\n",
              "      <td>0.011242</td>\n",
              "    </tr>\n",
              "    <tr>\n",
              "      <th>(30.0, 33.0]</th>\n",
              "      <td>0.245345</td>\n",
              "    </tr>\n",
              "    <tr>\n",
              "      <th>(33.0, 36.0]</th>\n",
              "      <td>0.067080</td>\n",
              "    </tr>\n",
              "    <tr>\n",
              "      <th>(36.0, 40.0]</th>\n",
              "      <td>0.238972</td>\n",
              "    </tr>\n",
              "    <tr>\n",
              "      <th>(40.0, 45.0]</th>\n",
              "      <td>0.251999</td>\n",
              "    </tr>\n",
              "    <tr>\n",
              "      <th>(45.0, 58.0]</th>\n",
              "      <td>0.127625</td>\n",
              "    </tr>\n",
              "    <tr>\n",
              "      <th rowspan=\"10\" valign=\"top\">ACADMOS</th>\n",
              "      <th rowspan=\"10\" valign=\"top\">-0.30848</th>\n",
              "      <th>(-0.001, 6.0]</th>\n",
              "      <td>0.131899</td>\n",
              "    </tr>\n",
              "    <tr>\n",
              "      <th>(6.0, 12.0]</th>\n",
              "      <td>-0.003488</td>\n",
              "    </tr>\n",
              "    <tr>\n",
              "      <th>(12.0, 14.0]</th>\n",
              "      <td>0.400647</td>\n",
              "    </tr>\n",
              "    <tr>\n",
              "      <th>(14.0, 24.0]</th>\n",
              "      <td>0.056876</td>\n",
              "    </tr>\n",
              "    <tr>\n",
              "      <th>(24.0, 28.0]</th>\n",
              "      <td>0.003573</td>\n",
              "    </tr>\n",
              "    <tr>\n",
              "      <th>(28.0, 38.0]</th>\n",
              "      <td>-0.216662</td>\n",
              "    </tr>\n",
              "    <tr>\n",
              "      <th>(38.0, 54.0]</th>\n",
              "      <td>-0.035318</td>\n",
              "    </tr>\n",
              "    <tr>\n",
              "      <th>(54.0, 82.4]</th>\n",
              "      <td>-0.172041</td>\n",
              "    </tr>\n",
              "    <tr>\n",
              "      <th>(82.4, 127.0]</th>\n",
              "      <td>-0.025585</td>\n",
              "    </tr>\n",
              "    <tr>\n",
              "      <th>(127.0, 240.0]</th>\n",
              "      <td>0.094315</td>\n",
              "    </tr>\n",
              "    <tr>\n",
              "      <th rowspan=\"5\" valign=\"top\">ADEPCNT</th>\n",
              "      <th rowspan=\"5\" valign=\"top\">-0.52550</th>\n",
              "      <th>0</th>\n",
              "      <td>0.060746</td>\n",
              "    </tr>\n",
              "    <tr>\n",
              "      <th>1</th>\n",
              "      <td>-0.176325</td>\n",
              "    </tr>\n",
              "    <tr>\n",
              "      <th>2</th>\n",
              "      <td>-0.060631</td>\n",
              "    </tr>\n",
              "    <tr>\n",
              "      <th>3</th>\n",
              "      <td>0.221955</td>\n",
              "    </tr>\n",
              "    <tr>\n",
              "      <th>4</th>\n",
              "      <td>-0.124199</td>\n",
              "    </tr>\n",
              "    <tr>\n",
              "      <th rowspan=\"3\" valign=\"top\">MAJORDRG</th>\n",
              "      <th rowspan=\"3\" valign=\"top\">-0.64602</th>\n",
              "      <th>0</th>\n",
              "      <td>0.027643</td>\n",
              "    </tr>\n",
              "    <tr>\n",
              "      <th>1</th>\n",
              "      <td>-0.307488</td>\n",
              "    </tr>\n",
              "    <tr>\n",
              "      <th>2</th>\n",
              "      <td>0.068770</td>\n",
              "    </tr>\n",
              "    <tr>\n",
              "      <th rowspan=\"3\" valign=\"top\">MINORDRG</th>\n",
              "      <th rowspan=\"3\" valign=\"top\">-0.50231</th>\n",
              "      <th>0</th>\n",
              "      <td>0.041427</td>\n",
              "    </tr>\n",
              "    <tr>\n",
              "      <th>1</th>\n",
              "      <td>-0.214168</td>\n",
              "    </tr>\n",
              "    <tr>\n",
              "      <th>2</th>\n",
              "      <td>-0.350671</td>\n",
              "    </tr>\n",
              "    <tr>\n",
              "      <th rowspan=\"2\" valign=\"top\">OWNRENT</th>\n",
              "      <th rowspan=\"2\" valign=\"top\">-0.32267</th>\n",
              "      <th>0</th>\n",
              "      <td>-0.162078</td>\n",
              "    </tr>\n",
              "    <tr>\n",
              "      <th>1</th>\n",
              "      <td>0.230403</td>\n",
              "    </tr>\n",
              "    <tr>\n",
              "      <th rowspan=\"10\" valign=\"top\">INCOME</th>\n",
              "      <th rowspan=\"10\" valign=\"top\">-0.19779</th>\n",
              "      <th>(49.999, 1400.0]</th>\n",
              "      <td>-0.739845</td>\n",
              "    </tr>\n",
              "    <tr>\n",
              "      <th>(1400.0, 1625.0]</th>\n",
              "      <td>-0.567325</td>\n",
              "    </tr>\n",
              "    <tr>\n",
              "      <th>(1625.0, 1820.0]</th>\n",
              "      <td>-0.185183</td>\n",
              "    </tr>\n",
              "    <tr>\n",
              "      <th>(1820.0, 2000.0]</th>\n",
              "      <td>-0.011416</td>\n",
              "    </tr>\n",
              "    <tr>\n",
              "      <th>(2000.0, 2191.667]</th>\n",
              "      <td>0.039110</td>\n",
              "    </tr>\n",
              "    <tr>\n",
              "      <th>(2191.667, 2500.0]</th>\n",
              "      <td>0.120301</td>\n",
              "    </tr>\n",
              "    <tr>\n",
              "      <th>(2500.0, 2708.333]</th>\n",
              "      <td>0.451456</td>\n",
              "    </tr>\n",
              "    <tr>\n",
              "      <th>(2708.333, 3083.333]</th>\n",
              "      <td>0.549880</td>\n",
              "    </tr>\n",
              "    <tr>\n",
              "      <th>(3083.333, 3750.0]</th>\n",
              "      <td>0.555540</td>\n",
              "    </tr>\n",
              "    <tr>\n",
              "      <th>(3750.0, 6250.0]</th>\n",
              "      <td>0.968631</td>\n",
              "    </tr>\n",
              "    <tr>\n",
              "      <th rowspan=\"10\" valign=\"top\">INCPER</th>\n",
              "      <th rowspan=\"10\" valign=\"top\">-0.17707</th>\n",
              "      <th>(699.999, 8700.0]</th>\n",
              "      <td>-0.516288</td>\n",
              "    </tr>\n",
              "    <tr>\n",
              "      <th>(8700.0, 11380.0]</th>\n",
              "      <td>-0.301711</td>\n",
              "    </tr>\n",
              "    <tr>\n",
              "      <th>(11380.0, 14279.4]</th>\n",
              "      <td>0.084600</td>\n",
              "    </tr>\n",
              "    <tr>\n",
              "      <th>(14279.4, 16800.0]</th>\n",
              "      <td>-0.211008</td>\n",
              "    </tr>\n",
              "    <tr>\n",
              "      <th>(16800.0, 19584.0]</th>\n",
              "      <td>-0.037766</td>\n",
              "    </tr>\n",
              "    <tr>\n",
              "      <th>(19584.0, 22000.0]</th>\n",
              "      <td>-0.045882</td>\n",
              "    </tr>\n",
              "    <tr>\n",
              "      <th>(22000.0, 25000.0]</th>\n",
              "      <td>0.188212</td>\n",
              "    </tr>\n",
              "    <tr>\n",
              "      <th>(25000.0, 30000.0]</th>\n",
              "      <td>0.430810</td>\n",
              "    </tr>\n",
              "    <tr>\n",
              "      <th>(30000.0, 35393.6]</th>\n",
              "      <td>0.309410</td>\n",
              "    </tr>\n",
              "    <tr>\n",
              "      <th>(35393.6, 59600.0]</th>\n",
              "      <td>0.454341</td>\n",
              "    </tr>\n",
              "    <tr>\n",
              "      <th rowspan=\"10\" valign=\"top\">SPENDING</th>\n",
              "      <th rowspan=\"10\" valign=\"top\">0.50947</th>\n",
              "      <th>(0.11, 19.101]</th>\n",
              "      <td>-0.622711</td>\n",
              "    </tr>\n",
              "    <tr>\n",
              "      <th>(19.101, 44.12]</th>\n",
              "      <td>0.032713</td>\n",
              "    </tr>\n",
              "    <tr>\n",
              "      <th>(44.12, 69.773]</th>\n",
              "      <td>-0.004818</td>\n",
              "    </tr>\n",
              "    <tr>\n",
              "      <th>(69.773, 98.938]</th>\n",
              "      <td>-0.053163</td>\n",
              "    </tr>\n",
              "    <tr>\n",
              "      <th>(98.938, 132.788]</th>\n",
              "      <td>-0.198658</td>\n",
              "    </tr>\n",
              "    <tr>\n",
              "      <th>(132.788, 173.557]</th>\n",
              "      <td>0.006355</td>\n",
              "    </tr>\n",
              "    <tr>\n",
              "      <th>(173.557, 226.811]</th>\n",
              "      <td>0.317796</td>\n",
              "    </tr>\n",
              "    <tr>\n",
              "      <th>(226.811, 307.017]</th>\n",
              "      <td>0.301801</td>\n",
              "    </tr>\n",
              "    <tr>\n",
              "      <th>(307.017, 441.501]</th>\n",
              "      <td>0.255081</td>\n",
              "    </tr>\n",
              "    <tr>\n",
              "      <th>(441.501, 964.887]</th>\n",
              "      <td>0.286021</td>\n",
              "    </tr>\n",
              "  </tbody>\n",
              "</table>\n",
              "</div>"
            ],
            "text/plain": [
              "                                             WoE\n",
              "zmienna  Probit   poz                           \n",
              "AGE      -0.44542 (17.999, 22.0]       -0.640434\n",
              "                  (22.0, 24.0]         -0.103041\n",
              "                  (24.0, 26.0]          0.198865\n",
              "                  (26.0, 28.0]          0.001224\n",
              "                  (28.0, 30.0]          0.011242\n",
              "                  (30.0, 33.0]          0.245345\n",
              "                  (33.0, 36.0]          0.067080\n",
              "                  (36.0, 40.0]          0.238972\n",
              "                  (40.0, 45.0]          0.251999\n",
              "                  (45.0, 58.0]          0.127625\n",
              "ACADMOS  -0.30848 (-0.001, 6.0]         0.131899\n",
              "                  (6.0, 12.0]          -0.003488\n",
              "                  (12.0, 14.0]          0.400647\n",
              "                  (14.0, 24.0]          0.056876\n",
              "                  (24.0, 28.0]          0.003573\n",
              "                  (28.0, 38.0]         -0.216662\n",
              "                  (38.0, 54.0]         -0.035318\n",
              "                  (54.0, 82.4]         -0.172041\n",
              "                  (82.4, 127.0]        -0.025585\n",
              "                  (127.0, 240.0]        0.094315\n",
              "ADEPCNT  -0.52550 0                     0.060746\n",
              "                  1                    -0.176325\n",
              "                  2                    -0.060631\n",
              "                  3                     0.221955\n",
              "                  4                    -0.124199\n",
              "MAJORDRG -0.64602 0                     0.027643\n",
              "                  1                    -0.307488\n",
              "                  2                     0.068770\n",
              "MINORDRG -0.50231 0                     0.041427\n",
              "                  1                    -0.214168\n",
              "                  2                    -0.350671\n",
              "OWNRENT  -0.32267 0                    -0.162078\n",
              "                  1                     0.230403\n",
              "INCOME   -0.19779 (49.999, 1400.0]     -0.739845\n",
              "                  (1400.0, 1625.0]     -0.567325\n",
              "                  (1625.0, 1820.0]     -0.185183\n",
              "                  (1820.0, 2000.0]     -0.011416\n",
              "                  (2000.0, 2191.667]    0.039110\n",
              "                  (2191.667, 2500.0]    0.120301\n",
              "                  (2500.0, 2708.333]    0.451456\n",
              "                  (2708.333, 3083.333]  0.549880\n",
              "                  (3083.333, 3750.0]    0.555540\n",
              "                  (3750.0, 6250.0]      0.968631\n",
              "INCPER   -0.17707 (699.999, 8700.0]    -0.516288\n",
              "                  (8700.0, 11380.0]    -0.301711\n",
              "                  (11380.0, 14279.4]    0.084600\n",
              "                  (14279.4, 16800.0]   -0.211008\n",
              "                  (16800.0, 19584.0]   -0.037766\n",
              "                  (19584.0, 22000.0]   -0.045882\n",
              "                  (22000.0, 25000.0]    0.188212\n",
              "                  (25000.0, 30000.0]    0.430810\n",
              "                  (30000.0, 35393.6]    0.309410\n",
              "                  (35393.6, 59600.0]    0.454341\n",
              "SPENDING  0.50947 (0.11, 19.101]       -0.622711\n",
              "                  (19.101, 44.12]       0.032713\n",
              "                  (44.12, 69.773]      -0.004818\n",
              "                  (69.773, 98.938]     -0.053163\n",
              "                  (98.938, 132.788]    -0.198658\n",
              "                  (132.788, 173.557]    0.006355\n",
              "                  (173.557, 226.811]    0.317796\n",
              "                  (226.811, 307.017]    0.301801\n",
              "                  (307.017, 441.501]    0.255081\n",
              "                  (441.501, 964.887]    0.286021"
            ]
          },
          "execution_count": 624,
          "metadata": {},
          "output_type": "execute_result"
        }
      ],
      "source": [
        "pd.set_option('display.max_rows', None)\n",
        "\n",
        "karta.set_index(['zmienna','Probit','poz'])"
      ]
    },
    {
      "cell_type": "markdown",
      "id": "bdd82ac1-9e2a-45c3-afd5-1019c52d87eb",
      "metadata": {
        "id": "bdd82ac1-9e2a-45c3-afd5-1019c52d87eb"
      },
      "source": [
        "For the logit and probit models, the direction of the influence of variables is identical. Analyzing the best-performing probit model, greater card spending increases the probability of default by 50%. The number of reports of serious infringements reduces the probability by around 64%"
      ]
    },
    {
      "cell_type": "markdown",
      "id": "4b614161-0741-40bb-8831-ed6b6ef6ff30",
      "metadata": {
        "id": "4b614161-0741-40bb-8831-ed6b6ef6ff30"
      },
      "source": [
        "<h1> Predictive models </h1>"
      ]
    },
    {
      "cell_type": "markdown",
      "id": "dcb40638-6939-4137-8d6c-feedff037a64",
      "metadata": {
        "id": "dcb40638-6939-4137-8d6c-feedff037a64"
      },
      "source": [
        "<h2> Variable Selection </h2>"
      ]
    },
    {
      "cell_type": "markdown",
      "id": "babf6eb9-76a3-480c-acf7-c7841c5ade26",
      "metadata": {
        "id": "babf6eb9-76a3-480c-acf7-c7841c5ade26"
      },
      "source": [
        "WoE variables, despite high efficiency for Logit and Probit models, may not bring the expected results in the case of other types of models, e.g. decision trees. To select the appropriate variables for the remaining models, recursive variable elimination with cross-validation was used, using the Random Forest model on the \"raw\" data."
      ]
    },
    {
      "cell_type": "code",
      "execution_count": null,
      "id": "5c3c3180-78d8-47f6-b0cf-acdb091c3b65",
      "metadata": {
        "id": "5c3c3180-78d8-47f6-b0cf-acdb091c3b65",
        "outputId": "acba5d06-33a1-4162-ae17-1c6ff2c619f4"
      },
      "outputs": [
        {
          "name": "stdout",
          "output_type": "stream",
          "text": [
            "Fitting estimator with 10 features.\n",
            "Fitting estimator with 9 features.\n",
            "Fitting estimator with 8 features.\n",
            "Fitting estimator with 7 features.\n",
            "Fitting estimator with 6 features.\n",
            "Fitting estimator with 5 features.\n",
            "Fitting estimator with 4 features.\n",
            "Fitting estimator with 3 features.\n",
            "Fitting estimator with 2 features.\n",
            "Fitting estimator with 10 features.\n",
            "Fitting estimator with 9 features.\n",
            "Fitting estimator with 8 features.\n",
            "Fitting estimator with 7 features.\n",
            "Fitting estimator with 6 features.\n",
            "Fitting estimator with 5 features.\n",
            "Fitting estimator with 4 features.\n",
            "Fitting estimator with 3 features.\n",
            "Fitting estimator with 2 features.\n",
            "Fitting estimator with 10 features.\n",
            "Fitting estimator with 9 features.\n",
            "Fitting estimator with 8 features.\n",
            "Fitting estimator with 7 features.\n",
            "Fitting estimator with 6 features.\n",
            "Fitting estimator with 5 features.\n",
            "Fitting estimator with 4 features.\n",
            "Fitting estimator with 3 features.\n",
            "Fitting estimator with 2 features.\n",
            "Fitting estimator with 10 features.\n",
            "Fitting estimator with 9 features.\n",
            "Fitting estimator with 8 features.\n",
            "Fitting estimator with 7 features.\n",
            "Fitting estimator with 6 features.\n",
            "Fitting estimator with 5 features.\n",
            "Fitting estimator with 4 features.\n",
            "Fitting estimator with 3 features.\n",
            "Fitting estimator with 2 features.\n",
            "Fitting estimator with 10 features.\n",
            "Fitting estimator with 9 features.\n",
            "Fitting estimator with 8 features.\n",
            "Fitting estimator with 7 features.\n",
            "Fitting estimator with 6 features.\n",
            "Fitting estimator with 5 features.\n",
            "Fitting estimator with 4 features.\n",
            "Fitting estimator with 3 features.\n",
            "Fitting estimator with 2 features.\n",
            "Wybrane zmienne: 10\n"
          ]
        }
      ],
      "source": [
        "from sklearn.ensemble import RandomForestClassifier\n",
        "from sklearn.feature_selection import RFECV\n",
        "\n",
        "df_train, df_test = train_test_split(df_raw, test_size=0.2, shuffle=True, random_state=2022)\n",
        "features = list(df_raw.columns)\n",
        "features.remove('DEFAULT')\n",
        "\n",
        "feature_selector = RFECV(RandomForestClassifier(), step=1, scoring='roc_auc', cv=5, verbose=1)\n",
        "\n",
        "feature_selector.fit(df_train[features], df_train[target])\n",
        "print('Wybrane zmienne:', feature_selector.n_features_)"
      ]
    },
    {
      "cell_type": "code",
      "execution_count": null,
      "id": "3224909b-f8f3-458e-9d2e-b0ca549c7bf3",
      "metadata": {
        "id": "3224909b-f8f3-458e-9d2e-b0ca549c7bf3",
        "outputId": "b4d01ac3-3f6e-46ea-b94e-15a7b17e40d0"
      },
      "outputs": [
        {
          "data": {
            "text/plain": [
              "['AGE',\n",
              " 'ACADMOS',\n",
              " 'ADEPCNT',\n",
              " 'MAJORDRG',\n",
              " 'MINORDRG',\n",
              " 'OWNRENT',\n",
              " 'INCOME',\n",
              " 'SELFEMPL',\n",
              " 'INCPER',\n",
              " 'SPENDING']"
            ]
          },
          "execution_count": 632,
          "metadata": {},
          "output_type": "execute_result"
        }
      ],
      "source": [
        "selected_features = [f for f in df_train[features].columns[feature_selector.ranking_ == 1]]\n",
        "selected_features"
      ]
    },
    {
      "cell_type": "markdown",
      "id": "3a5a7875-cc2a-4e34-b67a-4e7faef2e5d9",
      "metadata": {
        "id": "3a5a7875-cc2a-4e34-b67a-4e7faef2e5d9"
      },
      "source": [
        "Recursive elimination of variables showed that it is best to select only 8 variables for the model. In order to improve the predictive quality of the models, three data sets were used in the present analysis:\n",
        "\n",
        "<ul>\n",
        "<li> Best collection with WoE variables from the previous chapter </li>\n",
        "<li> Variables Included After Recursive Variable Elimination </li>\n",
        "<li> Raw data </li>\n",
        "</ul>\n",
        "\n",
        "The models used a 5-fold cross-validation and the final prediction on the validation (test) set, on data that did not participate in the model learning process."
      ]
    },
    {
      "cell_type": "code",
      "execution_count": null,
      "id": "7260d0d6-abd9-4890-b538-c3e3c34c5e7c",
      "metadata": {
        "id": "7260d0d6-abd9-4890-b538-c3e3c34c5e7c"
      },
      "outputs": [],
      "source": [
        "df_train_rfecv = df_train.filter(selected_features)\n",
        "df_test_rfecv = df_test.filter(selected_features)\n",
        "df_woe_train = df_train_woe_all.drop(columns=['SELFEMPL_WoE'])\n",
        "df_woe_test = df_train_woe_all.drop(columns=['SELFEMPL_WoE'])\n",
        "features_woe = list(df_woe_train.columns)\n",
        "features_woe.remove('DEFAULT')"
      ]
    },
    {
      "cell_type": "code",
      "execution_count": null,
      "id": "2d2dc95c-1ee9-468a-bf68-12896a16a2fa",
      "metadata": {
        "id": "2d2dc95c-1ee9-468a-bf68-12896a16a2fa"
      },
      "outputs": [],
      "source": [
        "for x in ['ADEPCNT', 'MAJORDRG', 'MINORDRG']:\n",
        "    df_train[x] = df_train[x].astype(int)\n",
        "    df_test[x] = df_test[x].astype(int)"
      ]
    },
    {
      "cell_type": "markdown",
      "id": "2cb272e8-5a3c-4a8d-9d7c-5495b1ab42d2",
      "metadata": {
        "id": "2cb272e8-5a3c-4a8d-9d7c-5495b1ab42d2"
      },
      "source": [
        "<h1>Logistic regression</h1>"
      ]
    },
    {
      "cell_type": "code",
      "execution_count": null,
      "id": "b3124e13-c56e-49de-9dea-807090e6da91",
      "metadata": {
        "id": "b3124e13-c56e-49de-9dea-807090e6da91"
      },
      "outputs": [],
      "source": [
        "from sklearn.linear_model import LogisticRegression\n",
        "from sklearn.model_selection import RepeatedStratifiedKFold\n",
        "from sklearn.model_selection import RandomizedSearchCV\n",
        "from scipy.stats import loguniform\n"
      ]
    },
    {
      "cell_type": "code",
      "execution_count": null,
      "id": "b10eb584-151e-4925-94a4-374a46be0fb5",
      "metadata": {
        "id": "b10eb584-151e-4925-94a4-374a46be0fb5"
      },
      "outputs": [],
      "source": [
        "#model = LogisticRegression()\n",
        "model = RandomForestClassifier()\n",
        "cv = RepeatedStratifiedKFold(n_splits=10, n_repeats=3, random_state=2022)\n",
        "space = dict()\n",
        "#space['solver'] = ['newton-cg', 'lbfgs', 'liblinear']\n",
        "#space['penalty'] = ['none', 'l1', 'l2', 'elasticnet']\n",
        "#space['C'] = loguniform(1e-5, 100)\n",
        "space['max_depth'] = range(3,8)\n",
        "search = RandomizedSearchCV(model,space, n_iter=10, scoring='roc_auc', n_jobs=-1, cv=cv, random_state=2022)\n",
        "result = search.fit(df_train[features], df_train[target])\n"
      ]
    },
    {
      "cell_type": "code",
      "execution_count": null,
      "id": "36f45525-ebcb-4b3f-867b-621a11ef1ccb",
      "metadata": {
        "id": "36f45525-ebcb-4b3f-867b-621a11ef1ccb"
      },
      "outputs": [],
      "source": [
        "from sklearn.model_selection import KFold\n",
        "from sklearn import metrics\n",
        "from sklearn.metrics import roc_auc_score, recall_score, precision_score, average_precision_score, precision_recall_curve,accuracy_score\n",
        "from sklearn.ensemble import RandomForestClassifier\n",
        "\n",
        "#wrapper \n",
        "def wrapper_sklearn(data = df, nFolds = 5, data_test=df_test,model=RandomForestClassifier ,randomState=2022,features=features, target=target, debug=False, importance=False,*args, **kwargs):\n",
        "    kf = KFold(n_splits=nFolds, shuffle=True, random_state=randomState)\n",
        "\n",
        "    AUCtrainResults=[]\n",
        "    AUCtestResults=[]\n",
        "    \n",
        "    predictions = []\n",
        "    indices = []\n",
        "    for train, test in kf.split(data.index.values):\n",
        "        \n",
        "        clf = model(*args, **kwargs)\n",
        "        clf.fit(data.iloc[train][features], data.iloc[train][target])\n",
        "        predsTrain = clf.predict_proba(data.iloc[train][features])[:,1]\n",
        "        preds = clf.predict_proba(data.iloc[test][features])[:,1]\n",
        "\n",
        "        predictions.append(preds.tolist().copy())\n",
        "        indices.append(data.iloc[test].index.tolist().copy())\n",
        "        AUCtrainScore = roc_auc_score((data[target].iloc[train]==1).astype(int), predsTrain)\n",
        "        AUCtestScore = roc_auc_score((data[target].iloc[test]==1).astype(int), preds)\n",
        "        \n",
        "        AUCtrainResults.append(AUCtrainScore)\n",
        "        AUCtestResults.append(AUCtestScore)\n",
        "        \n",
        "    preds_final = clf.predict_proba(data_test[features])[:,1]\n",
        "    fpr, tpr, thresholds = roc_curve(data_test[target], preds_final)\n",
        "    gini_score = 2 * auc(fpr, tpr) - 1\n",
        "    indices_final = data_test.index.tolist().copy()\n",
        "    AUC_final = roc_auc_score((data_test[target]).astype(int), preds_final)\n",
        "        \n",
        "    punkty_odciecia = np.arange(0, 1.01, 0.01)\n",
        "\n",
        "    wyniki = {}\n",
        "    for punkt in punkty_odciecia:\n",
        "        tn, fp, fn, tp = confusion_matrix(data_test[target], preds_final>punkt).ravel()\n",
        "        koszt = tn * -15 + fn * 75\n",
        "        wyniki[punkt] = koszt\n",
        "    # results in data series.\n",
        "    wyniki = pd.Series(wyniki)\n",
        "    npo = wyniki.iloc[wyniki.argmin():wyniki.argmin()+1].index[0]\n",
        "    \n",
        "    if importance==True:\n",
        "        imp = clf.feature_importances_\n",
        "        return predictions, indices, AUCtrainResults, AUCtestResults, gini_score, preds_final, AUC_final, indices_final, fpr, tpr, thresholds, npo, imp\n",
        "    else:\n",
        "        return predictions, indices, AUCtrainResults, AUCtestResults, gini_score, preds_final, AUC_final, indices_final, fpr, tpr, thresholds, npo"
      ]
    },
    {
      "cell_type": "markdown",
      "id": "16675c25-68a3-4cb5-85e6-12db3a9b415d",
      "metadata": {
        "id": "16675c25-68a3-4cb5-85e6-12db3a9b415d"
      },
      "source": [
        "<h2>Logistic regression</h2>"
      ]
    },
    {
      "cell_type": "code",
      "execution_count": null,
      "id": "4c16fcf7-a26a-4031-b42a-984b057dca19",
      "metadata": {
        "id": "4c16fcf7-a26a-4031-b42a-984b057dca19",
        "outputId": "45b46895-2bad-460b-a99c-aee5b818ef45"
      },
      "outputs": [
        {
          "name": "stdout",
          "output_type": "stream",
          "text": [
            "RFECV Test AUC 0.6401020961842309 Train AUC 0.6424777053687809 GINI: 0.3439378506689683 AUC valid 0.6719689253344842\n",
            "WOE Test AUC 0.7463859299964568 Train AUC 0.7502000918948738 GINI: 0.4971413604509247 AUC valid 0.7485706802254624\n",
            "RAW Test AUC 0.640090908236418 Train AUC 0.6436746266297707 GINI: 0.3439378506689683 AUC valid 0.6719689253344842\n"
          ]
        }
      ],
      "source": [
        "#RFECV\n",
        "predictions, indices, AUCtrainResults, AUCtestResults, gini_score, preds_final, AUC_final, indices_final, fpr_r, tpr_r, thresholds, npo = wrapper_sklearn(data=df_train, data_test=df_test, features=selected_features, target=target, model=LogisticRegression)\n",
        "print('RFECV','Test AUC',np.mean(AUCtestResults), 'Train AUC' ,np.mean(AUCtrainResults), 'GINI:',gini_score, 'AUC valid',AUC_final )\n",
        "#WOE\n",
        "predictions, indices, AUCtrainResults, AUCtestResults, gini_score, preds_final, AUC_final, indices_final, fpr_w, tpr_w, thresholds, npo = wrapper_sklearn(data=df_woe_train,data_test=df_woe_test, features=features_woe, target=target, model=LogisticRegression)\n",
        "print('WOE','Test AUC',np.mean(AUCtestResults), 'Train AUC' ,np.mean(AUCtrainResults), 'GINI:',gini_score, 'AUC valid',AUC_final )\n",
        "#RAW\n",
        "predictions, indices, AUCtrainResults, AUCtestResults, gini_score, preds_final, AUC_final, indices_final, fpr_raw, tpr_raw, thresholds, npo = wrapper_sklearn(data=df_train,data_test=df_test, features=features, target=target, model=LogisticRegression)\n",
        "print('RAW','Test AUC',np.mean(AUCtestResults), 'Train AUC' ,np.mean(AUCtrainResults), 'GINI:',gini_score, 'AUC valid',AUC_final )\n"
      ]
    },
    {
      "cell_type": "markdown",
      "id": "7752e3fa-a209-4fcd-9743-dfe672e813dd",
      "metadata": {
        "id": "7752e3fa-a209-4fcd-9743-dfe672e813dd"
      },
      "source": [
        "The set of WoE variables has the best values for logistic regression. Models on an unselected and selected set have the same value."
      ]
    },
    {
      "cell_type": "code",
      "execution_count": null,
      "id": "2c9e2400-e883-4f82-ad84-84b389207f77",
      "metadata": {
        "id": "2c9e2400-e883-4f82-ad84-84b389207f77",
        "outputId": "d9f55988-a95f-4540-b6b9-818924cbb588"
      },
      "outputs": [
        {
          "name": "stdout",
          "output_type": "stream",
          "text": [
            "{'AUCtestResults': 0.6458468704693471, 'AUCtrainResults': 0.6543719220491069, 'AUCval': 0.6575779024600776, 'gini': 0.31515580492015527, 'penalty': 'l2', 'solver': 'newton-cg'}\n",
            "{'AUCtestResults': 0.7464617434165082, 'AUCtrainResults': 0.7505559400065813, 'AUCval': 0.7490802281530275, 'gini': 0.4981604563060551, 'penalty': 'none', 'solver': 'saga'}\n",
            "{'AUCtestResults': 0.6503344541630187, 'AUCtrainResults': 0.6606162537474669, 'AUCval': 0.6466189037548555, 'gini': 0.29323780750971107, 'penalty': 'none', 'solver': 'newton-cg'}\n"
          ]
        }
      ],
      "source": [
        "for zbior_zmienne in [[df_train,df_test, selected_features ],[df_woe_train,df_woe_test, features_woe ],[df_train,df_test, features]]:\n",
        "    results = {}\n",
        "    for x in range(25):\n",
        "        try:\n",
        "            penalty = random.choice(['l1', 'l2', 'elasticnet', 'none'])\n",
        "            solver = random.choice(['newton-cg', 'lbfgs', 'sag', 'saga'])\n",
        "\n",
        "\n",
        "            predictions, indices, AUCtrainResults, AUCtestResults, gini_score, preds_final, AUC_final, indices_final, fpr_r, tpr_r, thresholds, npo = wrapper_sklearn(data=zbior_zmienne[0], \n",
        "            data_test=zbior_zmienne[1], penalty = penalty, solver=solver,features=zbior_zmienne[2], target=target, model=LogisticRegression)\n",
        "\n",
        "            results[np.mean(AUCtestResults)] = {'AUCtestResults': np.mean(AUCtestResults),\n",
        "                                               'AUCtrainResults': np.mean(AUCtrainResults),\n",
        "                                                'AUCval': np.mean(AUC_final),\n",
        "                                                'gini': gini_score,\n",
        "                                                'penalty': penalty,\n",
        "                                                'solver': solver\n",
        "                                               }\n",
        "        except: pass\n",
        "    print(results[max(list(results.keys()))])"
      ]
    },
    {
      "cell_type": "markdown",
      "id": "e3ae2831-defd-46a1-bc7c-040a44d422f6",
      "metadata": {
        "id": "e3ae2831-defd-46a1-bc7c-040a44d422f6"
      },
      "source": [
        "<h2>Random Forest</h2>"
      ]
    },
    {
      "cell_type": "code",
      "execution_count": null,
      "id": "d72fa817-956d-4215-ac28-9476ed7aaf29",
      "metadata": {
        "id": "d72fa817-956d-4215-ac28-9476ed7aaf29",
        "outputId": "f9f52d5a-51a7-44d3-b947-97550e6b2fa8"
      },
      "outputs": [
        {
          "name": "stdout",
          "output_type": "stream",
          "text": [
            "RFECV Test AUC 0.6339132048763412 Train AUC 1.0 GINI: 0.2838877859300819 AUC valid 0.641943892965041\n",
            "WOE Test AUC 0.6929181053004523 Train AUC 0.9999674293395264 GINI: 0.9295327168027632 AUC valid 0.9647663584013816\n",
            "RAW Test AUC 0.6320046226826276 Train AUC 1.0 GINI: 0.25448079413034086 AUC valid 0.6272403970651704\n"
          ]
        }
      ],
      "source": [
        "#RFECV\n",
        "predictions, indices, AUCtrainResults, AUCtestResults, gini_score, preds_final, AUC_final, indices_final, fpr_r, tpr_r, thresholds, npo = wrapper_sklearn(data=df_train, data_test=df_test, features=selected_features, target=target, model=RandomForestClassifier)\n",
        "print('RFECV','Test AUC',np.mean(AUCtestResults), 'Train AUC' ,np.mean(AUCtrainResults), 'GINI:',gini_score, 'AUC valid',AUC_final )\n",
        "#WOE\n",
        "predictions, indices, AUCtrainResults, AUCtestResults, gini_score, preds_final, AUC_final, indices_final, fpr_w, tpr_w, thresholds, npo = wrapper_sklearn(data=df_woe_train,data_test=df_woe_test, features=features_woe, target=target, model=RandomForestClassifier)\n",
        "print('WOE','Test AUC',np.mean(AUCtestResults), 'Train AUC' ,np.mean(AUCtrainResults), 'GINI:',gini_score, 'AUC valid',AUC_final )\n",
        "#RAW\n",
        "predictions, indices, AUCtrainResults, AUCtestResults, gini_score, preds_final, AUC_final, indices_final, fpr_raw, tpr_raw, thresholds, npo = wrapper_sklearn(data=df_train,data_test=df_test, features=features, target=target, model=RandomForestClassifier)\n",
        "print('RAW','Test AUC',np.mean(AUCtestResults), 'Train AUC' ,np.mean(AUCtrainResults), 'GINI:',gini_score, 'AUC valid',AUC_final )\n"
      ]
    },
    {
      "cell_type": "markdown",
      "id": "77e95e30-0600-4fe9-9408-ceb39180d616",
      "metadata": {
        "id": "77e95e30-0600-4fe9-9408-ceb39180d616"
      },
      "source": [
        "All models of the Random Forest are retrained. This is evidenced by the high average value of AUC of folds on the training set. For this purpose, a loop to find the best parameters was used to eliminate over-training of the model for each of the datasets."
      ]
    },
    {
      "cell_type": "code",
      "execution_count": null,
      "id": "63d922f4-942c-4357-bd16-4c00616b67c9",
      "metadata": {
        "id": "63d922f4-942c-4357-bd16-4c00616b67c9",
        "outputId": "235fc878-0deb-4bb8-dbf7-0049cf3e8f40"
      },
      "outputs": [
        {
          "name": "stdout",
          "output_type": "stream",
          "text": [
            "{'AUCtestResults': 0.5883201604796738, 'AUCtrainResults': 0.6016346471636339, 'AUCVal': 0.6153819594302978, 'gini': 0.23076391886059566, 'n_estimators': 86, 'max_depth': 7, 'min_samples_split': 18, 'min_samples_leaf': 10, 'min_impurity_decrease': 0.014881349080264693}\n",
            "{'AUCtestResults': 0.6467604732471679, 'AUCtrainResults': 0.6521434116574578, 'AUCVal': 0.6496424966334943, 'gini': 0.29928499326698854, 'n_estimators': 295, 'max_depth': 7, 'min_samples_split': 15, 'min_samples_leaf': 2, 'min_impurity_decrease': 0.006901023285726393}\n",
            "{'AUCtestResults': 0.6565513630723949, 'AUCtrainResults': 0.6815428378702353, 'AUCVal': 0.6778126888217523, 'gini': 0.35562537764350455, 'n_estimators': 127, 'max_depth': 2, 'min_samples_split': 15, 'min_samples_leaf': 10, 'min_impurity_decrease': 0.003067360831516308}\n"
          ]
        }
      ],
      "source": [
        "for zbior_zmienne in [[df_train,df_test, selected_features ],[df_woe_train,df_woe_test, features_woe ],[df_train,df_test, features]]:\n",
        "    results = {}\n",
        "    for x in range(25):\n",
        "        try:\n",
        "            n_estimators_ = random.randint(80,300)\n",
        "            criterion_ = random.choice(['entropy', 'gini'])\n",
        "            max_depth_ = random.randint(2,8)\n",
        "            min_samples_split_ = random.randint(2,20)\n",
        "            min_samples_leaf_ = random.randint(1,20)\n",
        "            min_impurity_decrease_ = random.uniform(0, 0.30)\n",
        "\n",
        "            predictions, indices, AUCtrainResults, AUCtestResults, gini_score, preds_final, AUC_final, indices_final, fpr_r, tpr_r, thresholds, npo = wrapper_sklearn(data=zbior_zmienne[0], data_test=zbior_zmienne[1], \n",
        "                                                                                                                                                        features=zbior_zmienne[2], target=target,\n",
        "                                                                                                                                                        model=RandomForestClassifier,\n",
        "                                                                                                                                                        n_estimators = n_estimators_,\n",
        "                                                                                                                                                        criterion = criterion_,\n",
        "                                                                                                                                                        max_depth = max_depth_,\n",
        "                                                                                                                                                        min_samples_split = min_samples_split_,\n",
        "                                                                                                                                                        min_samples_leaf = min_samples_leaf_,\n",
        "                                                                                                                                                        min_impurity_decrease = min_impurity_decrease_\n",
        "                                                                                                                                                        )\n",
        "\n",
        "            results[np.mean(AUCtestResults)] = {'AUCtestResults': np.mean(AUCtestResults),\n",
        "                                       'AUCtrainResults': np.mean(AUCtrainResults),\n",
        "                                        'AUCVal' : AUC_final,\n",
        "                                        'gini': gini_score,\n",
        "                                        'n_estimators': n_estimators_,\n",
        "                                        'max_depth': max_depth_,\n",
        "                                        'min_samples_split': min_samples_split_,\n",
        "                                        'min_samples_leaf': min_samples_leaf_,\n",
        "                                        'min_impurity_decrease': min_impurity_decrease_}        \n",
        "        except: pass\n",
        "        \n",
        "    print(results[max(list(results.keys()))])"
      ]
    },
    {
      "cell_type": "markdown",
      "id": "c32fe4dc-cdaf-45b9-9748-f17beacf0499",
      "metadata": {
        "id": "c32fe4dc-cdaf-45b9-9748-f17beacf0499"
      },
      "source": [
        "<h2>XGBoost</h2>"
      ]
    },
    {
      "cell_type": "code",
      "execution_count": null,
      "id": "21419002-9ea1-414c-bb63-42c4101f7628",
      "metadata": {
        "tags": [],
        "id": "21419002-9ea1-414c-bb63-42c4101f7628",
        "outputId": "b01f86ec-8df8-4be5-8a44-944194d38e62"
      },
      "outputs": [
        {
          "name": "stdout",
          "output_type": "stream",
          "text": [
            "RFECV Test AUC 0.6277109932142411 Train AUC 0.9954088209782783 GINI: 0.18346137246439365 AUC valid 0.5917306862321968\n",
            "WOE Test AUC 0.6698813432026919 Train AUC 0.9816326272872423 GINI: 0.8372215091447457 AUC valid 0.9186107545723728\n",
            "RAW Test AUC 0.618386501214385 Train AUC 0.9956309285390612 GINI: 0.2070608545533017 AUC valid 0.6035304272766508\n"
          ]
        }
      ],
      "source": [
        "#RFECV\n",
        "predictions, indices, AUCtrainResults, AUCtestResults, gini_score, preds_final, AUC_final, indices_final, fpr_r, tpr_r, thresholds, npo = wrapper_sklearn(data=df_train, data_test=df_test, features=selected_features, target=target, model=XGBClassifier)\n",
        "print('RFECV','Test AUC',np.mean(AUCtestResults), 'Train AUC' ,np.mean(AUCtrainResults), 'GINI:',gini_score, 'AUC valid',AUC_final )\n",
        "#WOE\n",
        "predictions, indices, AUCtrainResults, AUCtestResults, gini_score, preds_final, AUC_final, indices_final, fpr_w, tpr_w, thresholds, npo = wrapper_sklearn(data=df_woe_train,data_test=df_woe_test, features=features_woe, target=target, model=XGBClassifier)\n",
        "print('WOE','Test AUC',np.mean(AUCtestResults), 'Train AUC' ,np.mean(AUCtrainResults), 'GINI:',gini_score, 'AUC valid',AUC_final )\n",
        "#RAW\n",
        "predictions, indices, AUCtrainResults, AUCtestResults, gini_score, preds_final, AUC_final, indices_final, fpr_raw, tpr_raw, thresholds, npo = wrapper_sklearn(data=df_train,data_test=df_test, features=features, target=target, model=XGBClassifier)\n",
        "print('RAW','Test AUC',np.mean(AUCtestResults), 'Train AUC' ,np.mean(AUCtrainResults), 'GINI:',gini_score, 'AUC valid',AUC_final )\n"
      ]
    },
    {
      "cell_type": "markdown",
      "id": "5ef91584-c95b-4d02-97e5-7c71c1239f6a",
      "metadata": {
        "id": "5ef91584-c95b-4d02-97e5-7c71c1239f6a"
      },
      "source": [
        "Overfitting on the test set is also noticeable for XGBoost"
      ]
    },
    {
      "cell_type": "code",
      "execution_count": null,
      "id": "d21a7340-c8ab-4975-b336-6ce17713b26c",
      "metadata": {
        "id": "d21a7340-c8ab-4975-b336-6ce17713b26c",
        "outputId": "dfd64121-6df6-4cee-ff40-94435a0b0763"
      },
      "outputs": [
        {
          "name": "stdout",
          "output_type": "stream",
          "text": [
            "{'AUCtestResults': 0.6491790971889159, 'AUCtrainResults': 0.6101596892533449, 'gini': 0.2203193785066897, 'subsample': 0.2549368606242953, 'max_depth': 5, 'colsample_bytree': 0.22082581502828014, 'lambdaX': 8.997779610321434, 'gamma': 5.011492877714217}\n",
            "{'AUCtestResults': 0.7269052057619121, 'AUCtrainResults': 0.7529112970391145, 'gini': 0.505822594078229, 'subsample': 0.2549368606242953, 'max_depth': 5, 'colsample_bytree': 0.22082581502828014, 'lambdaX': 8.997779610321434, 'gamma': 5.011492877714217}\n",
            "{'AUCtestResults': 0.6576442647957021, 'AUCtrainResults': 0.6203694432455762, 'gini': 0.24073888649115238, 'subsample': 0.2549368606242953, 'max_depth': 5, 'colsample_bytree': 0.22082581502828014, 'lambdaX': 8.997779610321434, 'gamma': 5.011492877714217}\n"
          ]
        }
      ],
      "source": [
        "for zbior_zmienne in [[df_train,df_test, selected_features ],[df_woe_train,df_woe_test, features_woe ],[df_train,df_test, features]]:\n",
        "    results = {}\n",
        "    for x in range(25):\n",
        "        try:\n",
        "            n_estimators_ = random.randint(80,300)\n",
        "            criterion_ = random.choice(['entropy', 'gini'])\n",
        "            max_depth_ = random.randint(2,8)\n",
        "            min_samples_split_ = random.randint(2,20)\n",
        "            min_samples_leaf_ = random.randint(1,20)\n",
        "            min_impurity_decrease_ = random.uniform(0, 0.30)\n",
        "\n",
        "            predictions, indices, AUCtrainResults, AUCtestResults, gini_score, preds_final, AUC_final, indices_final, fpr_r, tpr_r, thresholds, npo = wrapper_sklearn(data=zbior_zmienne[0], data_test=zbior_zmienne[1], \n",
        "                                                                                                                                                        features=zbior_zmienne[2], target=target,\n",
        "                                                                                                                                                        model=XGBClassifier,subsample=subsample,\n",
        "                                                                                                                                                        max_depth=max_depth,colsample_bytree = colsample_bytree, \n",
        "                                                                                                                                                        lambdaX=lambdaX,gamma = gamma, silent=True, verbosity=0)\n",
        "\n",
        "            results[np.mean(AUCtestResults)] = {'AUCtestResults': np.mean(AUCtestResults),\n",
        "                                               'AUCtrainResults': np.mean(AUCtrainResults),\n",
        "                                                'AUCtrainResults': AUC_final,\n",
        "                                                'gini': gini_score,\n",
        "                                                'subsample': subsample,\n",
        "                                                'max_depth': max_depth,\n",
        "                                                'colsample_bytree': colsample_bytree,\n",
        "                                                'lambdaX': lambdaX,\n",
        "                                                'gamma': gamma}\n",
        "        except: pass\n",
        "        \n",
        "    print(results[max(list(results.keys()))])"
      ]
    },
    {
      "cell_type": "markdown",
      "id": "281c32e5-2f9f-406b-8ca8-aa90925f48b6",
      "metadata": {
        "id": "281c32e5-2f9f-406b-8ca8-aa90925f48b6"
      },
      "source": [
        "<h2>Probit</h2>"
      ]
    },
    {
      "cell_type": "code",
      "execution_count": null,
      "id": "8c2ad80d-6fe6-44a4-a71d-393aec63966b",
      "metadata": {
        "id": "8c2ad80d-6fe6-44a4-a71d-393aec63966b"
      },
      "outputs": [],
      "source": [
        "def wrapper_statsmodels(data = df, nFolds = 5, data_test=df_test,model=Probit ,randomState=2022,features=features, target=target, debug=False, *args, **kwargs):\n",
        "    kf = KFold(n_splits=nFolds, shuffle=True, random_state=randomState)\n",
        "\n",
        "    AUCtrainResults=[]\n",
        "    AUCtestResults=[]\n",
        "    \n",
        "    X_val = data_test[features]\n",
        "    y_val = data_test[target]\n",
        "    predictions = []\n",
        "    indices = []\n",
        "    for train, test in kf.split(data.index.values):\n",
        "        \n",
        "        X_train = data.iloc[train][features]\n",
        "        y_train = data.iloc[train][target]\n",
        "        X_test = data.iloc[test][features]\n",
        "        y_test = data.iloc[test][target]\n",
        "\n",
        "        \n",
        "        model = Probit(y_train, X_train).fit(disp=0)\n",
        "        predsTrain = model.predict(X_train)\n",
        "        preds = model.predict(X_test)\n",
        "        AUCtrainScore = roc_auc_score(y_train, predsTrain)\n",
        "        AUCtestScore = roc_auc_score(y_test, preds)\n",
        "        \n",
        "        AUCtrainResults.append(AUCtrainScore)\n",
        "        AUCtestResults.append(AUCtestScore)\n",
        "        \n",
        "    preds_final = model.predict(X_val)\n",
        "    fpr, tpr, thresholds = roc_curve(data_test[target], preds_final)\n",
        "    gini_score = 2 * auc(fpr, tpr) - 1\n",
        "    AUC_final = roc_auc_score((data_test[target]).astype(int), preds_final)\n",
        "        \n",
        "    punkty_odciecia = np.arange(0, 1.01, 0.01)\n",
        "\n",
        "    wyniki = {}\n",
        "    for punkt in punkty_odciecia:\n",
        "        tn, fp, fn, tp = confusion_matrix(y_val, preds_final>punkt).ravel()\n",
        "        koszt = tn * -15 + fn * 75\n",
        "        wyniki[punkt] = koszt\n",
        "    # Wyniki zapisuję w serii danych.\n",
        "    wyniki = pd.Series(wyniki)\n",
        "    nop = wyniki.iloc[wyniki.argmin():wyniki.argmin()+1].index[0]\n",
        "    \n",
        "    #m = np.argmax(tpr - fpr)\n",
        "    #nop = thresholds[m]\n",
        "\n",
        "        \n",
        "    return predictions, indices, AUCtrainResults, AUCtestResults, gini_score, preds_final, AUC_final, indices_final, fpr, tpr, thresholds, nop"
      ]
    },
    {
      "cell_type": "code",
      "execution_count": null,
      "id": "0cac9083-048a-4fff-94d1-a82b928e28c8",
      "metadata": {
        "id": "0cac9083-048a-4fff-94d1-a82b928e28c8",
        "outputId": "0ce5dd8c-d486-4743-dc7c-0871efd7b265"
      },
      "outputs": [
        {
          "name": "stdout",
          "output_type": "stream",
          "text": [
            "RFECV Test AUC 0.6485104277303554 Train AUC 0.654605517854847 GINI: 0.32092878722485985 AUC valid 0.6604643936124299\n",
            "WOE Test AUC 0.7142711918104427 Train AUC 0.716733677102628 GINI: 0.4370374076286725 AUC valid 0.7185187038143362\n",
            "RAW Test AUC 0.6481906764338419 Train AUC 0.6549885069770284 GINI: 0.3095347432024169 AUC valid 0.6547673716012085\n"
          ]
        }
      ],
      "source": [
        "#RFECV\n",
        "AUCtrainResults, AUCtestResults, gini_score, preds_final, AUC_final, fpr, tpr, thresholds, npo = wrapper_statsmodels(data=df_train, data_test=df_test, features=selected_features, target=target, model=Probit)\n",
        "print('RFECV','Test AUC',np.mean(AUCtestResults), 'Train AUC' ,np.mean(AUCtrainResults), 'GINI:',gini_score, 'AUC valid',AUC_final )\n",
        "#WOE\n",
        "AUCtrainResults, AUCtestResults, gini_score, preds_final, AUC_final, fpr, tpr, thresholds, npo = wrapper_statsmodels(data=df_woe_train,data_test=df_woe_test, features=features_woe, target=target, model=Probit)\n",
        "print('WOE','Test AUC',np.mean(AUCtestResults), 'Train AUC' ,np.mean(AUCtrainResults), 'GINI:',gini_score, 'AUC valid',AUC_final )\n",
        "#RAW\n",
        "AUCtrainResults, AUCtestResults, gini_score, preds_final, AUC_final, fpr, tpr, thresholds, npo = wrapper_statsmodels(data=df_train,data_test=df_test, features=features, target=target, model=Probit)\n",
        "print('RAW','Test AUC',np.mean(AUCtestResults), 'Train AUC' ,np.mean(AUCtrainResults), 'GINI:',gini_score, 'AUC valid',AUC_final )\n"
      ]
    },
    {
      "cell_type": "markdown",
      "id": "8bac2aa5-1c58-4b81-8ab2-6adfb2cd08c5",
      "metadata": {
        "id": "8bac2aa5-1c58-4b81-8ab2-6adfb2cd08c5"
      },
      "source": [
        "<h2> Compare the best models </h2>"
      ]
    },
    {
      "cell_type": "code",
      "execution_count": null,
      "id": "9ff00210-0f9e-4c93-b73b-607f402530fd",
      "metadata": {
        "id": "9ff00210-0f9e-4c93-b73b-607f402530fd"
      },
      "outputs": [],
      "source": [
        "predictions, indices, AUCtrainResults, AUCtestResults, gini_score_prob, preds_final, AUC_final_prob, indices_final, fpr_prob, tpr_prob, thresholds_prob, npo_prob = wrapper_statsmodels(data=df_woe_train,\n",
        "                                                                                                                                                                    data_test=df_woe_test,features=features_woe, target=target, model=Probit)\n",
        "\n",
        "predictions, indices, AUCtrainResults, AUCtestResults, gini_score_xgb, preds_final, AUC_final_xgb, indices_final, fpr_xgb, tpr_xgb, thresholds_xgb, npo_xgb, imp_xgb = wrapper_sklearn(data=df_woe_train,data_test=df_woe_test,\n",
        "                                                                                                                                                                    features=features_woe,\n",
        "                                                                                                                                                                    target=target, model=XGBClassifier,\n",
        "                                                                                                                                                                    subsample =  0.2549368606242953,\n",
        "                                                                                                                                                                    max_depth =  5,\n",
        "                                                                                                                                                                    colsample_bytree = 0.22082581502828014,\n",
        "                                                                                                                                                                    lambdaX =  8.997779610321434,\n",
        "                                                                                                                                                                    gamma = 5.011492877714217)\n",
        "\n",
        "\n",
        "\n",
        "predictions, indices, AUCtrainResults, AUCtestResults, gini_score_rf, preds_final, AUC_final_rf, indices_final, fpr_rf, tpr_rf, thresholds_rf, npo_rf, imp_rf = wrapper_sklearn(data=df_woe_train,data_test=df_woe_test, \n",
        "                                                                                                                                                    features=features_woe, target=target, \n",
        "                                                                                                                                                    model=RandomForestClassifier,\n",
        "                                                                                                                                                    n_estimators = 295,max_depth = 7,\n",
        "                                                                                                                                                    min_samples_split =  15,\n",
        "                                                                                                                                                    min_samples_leaf = 2,\n",
        "                                                                                                                                                    min_impurity_decrease =  0.006901023285726393)\n",
        "\n",
        "predictions, indices, AUCtrainResults, AUCtestResults, gini_score_lr, preds_final, AUC_final_lr, indices_final, fpr_lr, tpr_lr, thresholds_lr, npo_lr = wrapper_sklearn(data=df_woe_train,data_test=df_woe_test, \n",
        "                                                                                                                                                     features=features_woe, target=target, \n",
        "                                                                                                                                                     model=LogisticRegression, solver='saga')\n",
        "\n"
      ]
    },
    {
      "cell_type": "code",
      "execution_count": null,
      "id": "339778a6-7e1e-417d-af29-42ac121534c4",
      "metadata": {
        "id": "339778a6-7e1e-417d-af29-42ac121534c4",
        "outputId": "e5a7cc03-2f13-468a-bd47-bac21da3a09b"
      },
      "outputs": [
        {
          "data": {
            "image/png": "[encoded data removed]",
            "text/plain": [
              "<Figure size 2160x576 with 1 Axes>"
            ]
          },
          "metadata": {},
          "output_type": "display_data"
        }
      ],
      "source": [
        "plt.plot([0,1],[0,1], 'k--')\n",
        "plt.plot(fpr_prob, tpr_probit, color='red',label=\"Probit\"+ ' Gini:' +str(round(gini_score_prob, 4)) + ' AUC:' + str(round(AUC_final_prob,4)))\n",
        "plt.axvline(x=npo_prob, color='r', linestyle='--')\n",
        "\n",
        "plt.plot(fpr_xgb, tpr_xgb, color='orange' ,label= \"XGBoost\"+ ' Gini:' + str(round(gini_score_xgb,4)) + ' AUC:' + str(round(AUC_final_xgb, 4)))\n",
        "plt.axvline(x=npo_xgb,color='orange', linestyle='--')\n",
        "\n",
        "plt.plot(fpr_rf, tpr_rf, color='green' ,label= \"Random Forest\"+ ' Gini:' + str(round(gini_score_rf,4)) + ' AUC:' + str(round(AUC_final_rf,4)))\n",
        "plt.axvline(x=npo_rf,color='green', linestyle='--')\n",
        "\n",
        "plt.plot(fpr_lr, tpr_lr, color='blue', label= \"Logistic Regression\"+ ' Gini:' + str(round(gini_score_lr,4)) + ' AUC:' + str(round(AUC_final_lr,4)))\n",
        "plt.axvline(x=npo_lr,color='blue', linestyle='--')\n",
        "\n",
        "plt.legend()\n",
        "plt.xlabel(\"FPR\")\n",
        "plt.ylabel(\"TPR\")\n",
        "plt.title('Receiver Operating Characteristic')\n",
        "plt.show()"
      ]
    },
    {
      "cell_type": "code",
      "execution_count": null,
      "id": "bae39daa-e97d-47b0-9d1d-8abf7c097e11",
      "metadata": {
        "id": "bae39daa-e97d-47b0-9d1d-8abf7c097e11",
        "outputId": "c6742220-6f12-4060-fc9d-6ae46fbe4388"
      },
      "outputs": [
        {
          "data": {
            "text/plain": [
              "<BarContainer object of 9 artists>"
            ]
          },
          "execution_count": 645,
          "metadata": {},
          "output_type": "execute_result"
        },
        {
          "data": {
            "image/png": "[encoded data removed]",
            "text/plain": [
              "<Figure size 1080x1080 with 1 Axes>"
            ]
          },
          "metadata": {},
          "output_type": "display_data"
        }
      ],
      "source": [
        "imp_xgb\n",
        "plt.barh(features_woe,imp_xgb)\n"
      ]
    },
    {
      "cell_type": "markdown",
      "id": "1e0ef7f6-db7f-4842-b6cd-e1a57bbd662d",
      "metadata": {
        "id": "1e0ef7f6-db7f-4842-b6cd-e1a57bbd662d"
      },
      "source": [
        "For the best model (XGBoost), the most important variable in the probability assessment is the WoE variable describing the average monthly expenses from a credit card"
      ]
    },
    {
      "cell_type": "markdown",
      "id": "76fdfc21-02da-42bd-9ed3-b78b3b99f333",
      "metadata": {
        "id": "76fdfc21-02da-42bd-9ed3-b78b3b99f333"
      },
      "source": [
        "<h1> Summary </h1>\n",
        "\n",
        "Using the Logit and Probit models, an analysis of the impact and probability of the impact of individual variables on the probability of default occurring in the respondents was carried out. Probit estimated on the WoE variables, with the highest value of the Gini index, fared best from both models. For the purpose of prediction, 3 sets were used: raw data, data selected using the RFECV method with the use of a random forest, and the WoE set. Also in this case, the best values in the models were obtained on sets with WoE variables. In order to predict default, the XGBoost model was the best and the logistic regression was slightly worse. The selection and transformation of the data set have the greatest impact on the obtained results, rather than other factors, e.g. the selection of hyperparameters."
      ]
    }
  ],
  "metadata": {
    "kernelspec": {
      "display_name": "Python 3",
      "language": "python",
      "name": "python3"
    },
    "language_info": {
      "codemirror_mode": {
        "name": "ipython",
        "version": 3
      },
      "file_extension": ".py",
      "mimetype": "text/x-python",
      "name": "python",
      "nbconvert_exporter": "python",
      "pygments_lexer": "ipython3",
      "version": "3.8.8"
    },
    "colab": {
      "name": "Credit risk.ipynb",
      "provenance": []
    }
  },
  "nbformat": 4,
  "nbformat_minor": 5
}